{
 "cells": [
  {
   "cell_type": "code",
   "execution_count": 1,
   "id": "0b6f726c",
   "metadata": {},
   "outputs": [],
   "source": [
    "import sys\n",
    "import os\n",
    "import json\n",
    "import glob\n",
    "import numpy as np\n",
    "from lxml import etree\n",
    "import pyxodr\n",
    "from pyxodr.road_objects.road import Road\n",
    "from pyxodr.road_objects.lane import Lane,ConnectionPosition,LaneOrientation, TrafficOrientation\n",
    "from pyxodr.road_objects.junction import Junction\n",
    "from pyxodr.road_objects.lane_section import LaneSection\n",
    "from pyxodr.road_objects.network import RoadNetwork\n",
    "from shapely.geometry import Polygon\n",
    "from enum import IntEnum\n"
   ]
  },
  {
   "cell_type": "code",
   "execution_count": 2,
   "id": "79719698",
   "metadata": {},
   "outputs": [],
   "source": [
    "carla_map_dir = 'C:\\\\Carla-0.10.0\\\\CarlaUnreal\\\\Content\\\\Carla\\\\Maps\\\\OpenDrive'\n",
    "odr_file = os.path.join(carla_map_dir, 'Town07.xodr')\n",
    "\n",
    "road_network = RoadNetwork(xodr_file_path=odr_file)"
   ]
  },
  {
   "cell_type": "code",
   "execution_count": 3,
   "id": "6fb6ef11",
   "metadata": {},
   "outputs": [
    {
     "data": {
      "text/html": [
       "<pre style=\"white-space:pre;overflow-x:auto;line-height:normal;font-family:Menlo,'DejaVu Sans Mono',consolas,'Courier New',monospace\">Road <span style=\"color: #008080; text-decoration-color: #008080; font-weight: bold\">33</span> has no reference line, using reduced resolution.\n",
       "</pre>\n"
      ],
      "text/plain": [
       "Road \u001b[1;36m33\u001b[0m has no reference line, using reduced resolution.\n"
      ]
     },
     "metadata": {},
     "output_type": "display_data"
    },
    {
     "ename": "IndexError",
     "evalue": "Zero length reference line in lane Lane_-1/Section_1/Road_716",
     "output_type": "error",
     "traceback": [
      "\u001b[31m---------------------------------------------------------------------------\u001b[39m",
      "\u001b[31mIndexError\u001b[39m                                Traceback (most recent call last)",
      "\u001b[36mCell\u001b[39m\u001b[36m \u001b[39m\u001b[32mIn[3]\u001b[39m\u001b[32m, line 1\u001b[39m\n\u001b[32m----> \u001b[39m\u001b[32m1\u001b[39m roads = \u001b[43mroad_network\u001b[49m\u001b[43m.\u001b[49m\u001b[43mget_roads\u001b[49m\u001b[43m(\u001b[49m\u001b[43m)\u001b[49m\n\u001b[32m      2\u001b[39m \u001b[38;5;28mprint\u001b[39m(\u001b[33mf\u001b[39m\u001b[33m\"\u001b[39m\u001b[33mNumber of roads in the network: \u001b[39m\u001b[38;5;132;01m{\u001b[39;00m\u001b[38;5;28mlen\u001b[39m(roads)\u001b[38;5;132;01m}\u001b[39;00m\u001b[33m\"\u001b[39m)\n\u001b[32m      3\u001b[39m \u001b[38;5;28mprint\u001b[39m(\u001b[33mf\u001b[39m\u001b[33m\"\u001b[39m\u001b[33mType: \u001b[39m\u001b[38;5;132;01m{\u001b[39;00m\u001b[38;5;28mtype\u001b[39m(roads[\u001b[32m0\u001b[39m])\u001b[38;5;132;01m}\u001b[39;00m\u001b[38;5;130;01m\\n\u001b[39;00m\u001b[33mRoads: \u001b[39m\u001b[38;5;132;01m{\u001b[39;00mroads\u001b[38;5;132;01m}\u001b[39;00m\u001b[33m\"\u001b[39m)\n",
      "\u001b[36mFile \u001b[39m\u001b[32m~\\AppData\\Roaming\\Python\\Python312\\site-packages\\pyxodr\\road_objects\\network.py:165\u001b[39m, in \u001b[36mRoadNetwork.get_roads\u001b[39m\u001b[34m(self, include_connecting_roads, verbose)\u001b[39m\n\u001b[32m    162\u001b[39m         \u001b[38;5;28mself\u001b[39m.road_ids_to_object[road.id] = road\n\u001b[32m    163\u001b[39m         roads.append(road)\n\u001b[32m--> \u001b[39m\u001b[32m165\u001b[39m \u001b[38;5;28;43mself\u001b[39;49m\u001b[43m.\u001b[49m\u001b[43m_link_roads\u001b[49m\u001b[43m(\u001b[49m\u001b[43m)\u001b[49m\n\u001b[32m    167\u001b[39m \u001b[38;5;28;01mreturn\u001b[39;00m roads\n",
      "\u001b[36mFile \u001b[39m\u001b[32m~\\AppData\\Roaming\\Python\\Python312\\site-packages\\pyxodr\\road_objects\\network.py:123\u001b[39m, in \u001b[36mRoadNetwork._link_roads\u001b[39m\u001b[34m(self)\u001b[39m\n\u001b[32m    115\u001b[39m \u001b[38;5;28;01mif\u001b[39;00m succ_dict \u001b[38;5;129;01mis\u001b[39;00m \u001b[38;5;129;01mnot\u001b[39;00m \u001b[38;5;28;01mNone\u001b[39;00m \u001b[38;5;129;01mand\u001b[39;00m succ_dict[\u001b[33m\"\u001b[39m\u001b[33melementType\u001b[39m\u001b[33m\"\u001b[39m] == \u001b[33m\"\u001b[39m\u001b[33mroad\u001b[39m\u001b[33m\"\u001b[39m:\n\u001b[32m    116\u001b[39m     road.successor_data = (\n\u001b[32m    117\u001b[39m         \u001b[38;5;28mself\u001b[39m.road_ids_to_object[succ_dict[\u001b[33m\"\u001b[39m\u001b[33melementId\u001b[39m\u001b[33m\"\u001b[39m]],\n\u001b[32m    118\u001b[39m         ConnectionPosition.from_contact_point_str(\n\u001b[32m    119\u001b[39m             succ_dict[\u001b[33m\"\u001b[39m\u001b[33mcontactPoint\u001b[39m\u001b[33m\"\u001b[39m]\n\u001b[32m    120\u001b[39m         ),\n\u001b[32m    121\u001b[39m     )\n\u001b[32m--> \u001b[39m\u001b[32m123\u001b[39m \u001b[43mroad\u001b[49m\u001b[43m.\u001b[49m\u001b[43m_link_lane_sections\u001b[49m\u001b[43m(\u001b[49m\u001b[43m)\u001b[49m\n",
      "\u001b[36mFile \u001b[39m\u001b[32m~\\AppData\\Roaming\\Python\\Python312\\site-packages\\pyxodr\\road_objects\\road.py:423\u001b[39m, in \u001b[36mRoad._link_lane_sections\u001b[39m\u001b[34m(self)\u001b[39m\n\u001b[32m    417\u001b[39m         connecting_lane_section.successor_data = (\n\u001b[32m    418\u001b[39m             \u001b[38;5;28mself\u001b[39m.lane_sections[-\u001b[32m1\u001b[39m],\n\u001b[32m    419\u001b[39m             ConnectionPosition.END,\n\u001b[32m    420\u001b[39m         )\n\u001b[32m    422\u001b[39m \u001b[38;5;28;01mfor\u001b[39;00m lane_section \u001b[38;5;129;01min\u001b[39;00m \u001b[38;5;28mself\u001b[39m.lane_sections:\n\u001b[32m--> \u001b[39m\u001b[32m423\u001b[39m     \u001b[43mlane_section\u001b[49m\u001b[43m.\u001b[49m\u001b[43m_link_lanes\u001b[49m\u001b[43m(\u001b[49m\u001b[43m)\u001b[49m\n",
      "\u001b[36mFile \u001b[39m\u001b[32m~\\AppData\\Roaming\\Python\\Python312\\site-packages\\pyxodr\\road_objects\\lane_section.py:271\u001b[39m, in \u001b[36mLaneSection._link_lanes\u001b[39m\u001b[34m(self)\u001b[39m\n\u001b[32m    269\u001b[39m \u001b[38;5;28;01mfor\u001b[39;00m successor_id \u001b[38;5;129;01min\u001b[39;00m lane.successor_ids:\n\u001b[32m    270\u001b[39m     \u001b[38;5;28;01mtry\u001b[39;00m:\n\u001b[32m--> \u001b[39m\u001b[32m271\u001b[39m         successor_lane_obj = \u001b[43msuccessor_lane_section\u001b[49m\u001b[43m.\u001b[49m\u001b[43mget_lane_from_id\u001b[49m\u001b[43m(\u001b[49m\n\u001b[32m    272\u001b[39m \u001b[43m            \u001b[49m\u001b[43msuccessor_id\u001b[49m\n\u001b[32m    273\u001b[39m \u001b[43m        \u001b[49m\u001b[43m)\u001b[49m\n\u001b[32m    274\u001b[39m     \u001b[38;5;28;01mexcept\u001b[39;00m \u001b[38;5;167;01mKeyError\u001b[39;00m \u001b[38;5;28;01mas\u001b[39;00m e:\n\u001b[32m    275\u001b[39m         \u001b[38;5;28;01mif\u001b[39;00m successor_id \u001b[38;5;129;01min\u001b[39;00m successor_lane_section.ignored_lane_ids:\n",
      "\u001b[36mFile \u001b[39m\u001b[32m~\\AppData\\Roaming\\Python\\Python312\\site-packages\\pyxodr\\road_objects\\lane_section.py:193\u001b[39m, in \u001b[36mLaneSection.get_lane_from_id\u001b[39m\u001b[34m(self, lane_id)\u001b[39m\n\u001b[32m    191\u001b[39m \u001b[38;5;250m\u001b[39m\u001b[33;03m\"\"\"Return a lane object from its int ID.\"\"\"\u001b[39;00m\n\u001b[32m    192\u001b[39m \u001b[38;5;28;01mtry\u001b[39;00m:\n\u001b[32m--> \u001b[39m\u001b[32m193\u001b[39m     lane_obj = \u001b[38;5;28;43mself\u001b[39;49m\u001b[43m.\u001b[49m\u001b[43m_id_to_lane\u001b[49m[lane_id]\n\u001b[32m    194\u001b[39m \u001b[38;5;28;01mexcept\u001b[39;00m \u001b[38;5;167;01mKeyError\u001b[39;00m:\n\u001b[32m    195\u001b[39m     \u001b[38;5;28;01mraise\u001b[39;00m \u001b[38;5;167;01mKeyError\u001b[39;00m(\n\u001b[32m    196\u001b[39m         \u001b[33m\"\u001b[39m\u001b[33mError while trying to retrieve lane with id \u001b[39m\u001b[33m\"\u001b[39m\n\u001b[32m    197\u001b[39m         + \u001b[33mf\u001b[39m\u001b[33m\"\u001b[39m\u001b[38;5;132;01m{\u001b[39;00mlane_id\u001b[38;5;132;01m}\u001b[39;00m\u001b[33m from lane section \u001b[39m\u001b[38;5;132;01m{\u001b[39;00m\u001b[38;5;28mself\u001b[39m.lane_section_ordinal\u001b[38;5;132;01m}\u001b[39;00m\u001b[33m \u001b[39m\u001b[33m\"\u001b[39m\n\u001b[32m    198\u001b[39m         + \u001b[33mf\u001b[39m\u001b[33m\"\u001b[39m\u001b[33min road \u001b[39m\u001b[38;5;132;01m{\u001b[39;00m\u001b[38;5;28mself\u001b[39m.road_id\u001b[38;5;132;01m}\u001b[39;00m\u001b[33m\"\u001b[39m\n\u001b[32m    199\u001b[39m     )\n",
      "\u001b[36mFile \u001b[39m\u001b[32mc:\\Python312\\Lib\\functools.py:993\u001b[39m, in \u001b[36mcached_property.__get__\u001b[39m\u001b[34m(self, instance, owner)\u001b[39m\n\u001b[32m    991\u001b[39m val = cache.get(\u001b[38;5;28mself\u001b[39m.attrname, _NOT_FOUND)\n\u001b[32m    992\u001b[39m \u001b[38;5;28;01mif\u001b[39;00m val \u001b[38;5;129;01mis\u001b[39;00m _NOT_FOUND:\n\u001b[32m--> \u001b[39m\u001b[32m993\u001b[39m     val = \u001b[38;5;28;43mself\u001b[39;49m\u001b[43m.\u001b[49m\u001b[43mfunc\u001b[49m\u001b[43m(\u001b[49m\u001b[43minstance\u001b[49m\u001b[43m)\u001b[49m\n\u001b[32m    994\u001b[39m     \u001b[38;5;28;01mtry\u001b[39;00m:\n\u001b[32m    995\u001b[39m         cache[\u001b[38;5;28mself\u001b[39m.attrname] = val\n",
      "\u001b[36mFile \u001b[39m\u001b[32m~\\AppData\\Roaming\\Python\\Python312\\site-packages\\pyxodr\\road_objects\\lane_section.py:188\u001b[39m, in \u001b[36mLaneSection._id_to_lane\u001b[39m\u001b[34m(self)\u001b[39m\n\u001b[32m    186\u001b[39m \u001b[38;5;129m@cached_property\u001b[39m\n\u001b[32m    187\u001b[39m \u001b[38;5;28;01mdef\u001b[39;00m\u001b[38;5;250m \u001b[39m\u001b[34m_id_to_lane\u001b[39m(\u001b[38;5;28mself\u001b[39m) -> Dict[\u001b[38;5;28mint\u001b[39m, Lane]:\n\u001b[32m--> \u001b[39m\u001b[32m188\u001b[39m     \u001b[38;5;28;01mreturn\u001b[39;00m {lane.id: lane \u001b[38;5;28;01mfor\u001b[39;00m lane \u001b[38;5;129;01min\u001b[39;00m \u001b[38;5;28;43mself\u001b[39;49m\u001b[43m.\u001b[49m\u001b[43mlanes\u001b[49m}\n",
      "\u001b[36mFile \u001b[39m\u001b[32m~\\AppData\\Roaming\\Python\\Python312\\site-packages\\pyxodr\\road_objects\\lane_section.py:167\u001b[39m, in \u001b[36mLaneSection.lanes\u001b[39m\u001b[34m(self)\u001b[39m\n\u001b[32m    164\u001b[39m \u001b[38;5;129m@property\u001b[39m\n\u001b[32m    165\u001b[39m \u001b[38;5;28;01mdef\u001b[39;00m\u001b[38;5;250m \u001b[39m\u001b[34mlanes\u001b[39m(\u001b[38;5;28mself\u001b[39m) -> List[Lane]:\n\u001b[32m    166\u001b[39m \u001b[38;5;250m    \u001b[39m\u001b[33;03m\"\"\"Get all lanes.\"\"\"\u001b[39;00m\n\u001b[32m--> \u001b[39m\u001b[32m167\u001b[39m     lanes = \u001b[38;5;28mself\u001b[39m.left_lanes + \u001b[38;5;28;43mself\u001b[39;49m\u001b[43m.\u001b[49m\u001b[43mright_lanes\u001b[49m\n\u001b[32m    168\u001b[39m     \u001b[38;5;28;01mreturn\u001b[39;00m lanes\n",
      "\u001b[36mFile \u001b[39m\u001b[32mc:\\Python312\\Lib\\functools.py:993\u001b[39m, in \u001b[36mcached_property.__get__\u001b[39m\u001b[34m(self, instance, owner)\u001b[39m\n\u001b[32m    991\u001b[39m val = cache.get(\u001b[38;5;28mself\u001b[39m.attrname, _NOT_FOUND)\n\u001b[32m    992\u001b[39m \u001b[38;5;28;01mif\u001b[39;00m val \u001b[38;5;129;01mis\u001b[39;00m _NOT_FOUND:\n\u001b[32m--> \u001b[39m\u001b[32m993\u001b[39m     val = \u001b[38;5;28;43mself\u001b[39;49m\u001b[43m.\u001b[49m\u001b[43mfunc\u001b[49m\u001b[43m(\u001b[49m\u001b[43minstance\u001b[49m\u001b[43m)\u001b[49m\n\u001b[32m    994\u001b[39m     \u001b[38;5;28;01mtry\u001b[39;00m:\n\u001b[32m    995\u001b[39m         cache[\u001b[38;5;28mself\u001b[39m.attrname] = val\n",
      "\u001b[36mFile \u001b[39m\u001b[32m~\\AppData\\Roaming\\Python\\Python312\\site-packages\\pyxodr\\road_objects\\lane_section.py:162\u001b[39m, in \u001b[36mLaneSection.right_lanes\u001b[39m\u001b[34m(self)\u001b[39m\n\u001b[32m    150\u001b[39m \u001b[38;5;129m@cached_property\u001b[39m\n\u001b[32m    151\u001b[39m \u001b[38;5;28;01mdef\u001b[39;00m\u001b[38;5;250m \u001b[39m\u001b[34mright_lanes\u001b[39m(\u001b[38;5;28mself\u001b[39m) -> List[Lane]:\n\u001b[32m    152\u001b[39m \u001b[38;5;250m    \u001b[39m\u001b[33;03m\"\"\"\u001b[39;00m\n\u001b[32m    153\u001b[39m \u001b[33;03m    Return a list of lane objects on the right of the lane offset line.\u001b[39;00m\n\u001b[32m    154\u001b[39m \n\u001b[32m   (...)\u001b[39m\u001b[32m    160\u001b[39m \u001b[33;03m        List of right lanes\u001b[39;00m\n\u001b[32m    161\u001b[39m \u001b[33;03m    \"\"\"\u001b[39;00m\n\u001b[32m--> \u001b[39m\u001b[32m162\u001b[39m     \u001b[38;5;28;01mreturn\u001b[39;00m \u001b[38;5;28;43mself\u001b[39;49m\u001b[43m.\u001b[49m\u001b[43m__get_lanes_by_orientation\u001b[49m\u001b[43m(\u001b[49m\u001b[43mLaneOrientation\u001b[49m\u001b[43m.\u001b[49m\u001b[43mRIGHT\u001b[49m\u001b[43m)\u001b[49m\n",
      "\u001b[36mFile \u001b[39m\u001b[32m~\\AppData\\Roaming\\Python\\Python312\\site-packages\\pyxodr\\road_objects\\lane_section.py:93\u001b[39m, in \u001b[36mLaneSection.__get_lanes_by_orientation\u001b[39m\u001b[34m(self, orientation, ignored_lanes)\u001b[39m\n\u001b[32m     91\u001b[39m inner_lane: Lane = \u001b[38;5;28;01mNone\u001b[39;00m\n\u001b[32m     92\u001b[39m \u001b[38;5;28;01mfor\u001b[39;00m lane_xml \u001b[38;5;129;01min\u001b[39;00m lane_xmls:\n\u001b[32m---> \u001b[39m\u001b[32m93\u001b[39m     lane_obj = \u001b[43mLane\u001b[49m\u001b[43m(\u001b[49m\n\u001b[32m     94\u001b[39m \u001b[43m        \u001b[49m\u001b[38;5;28;43mself\u001b[39;49m\u001b[43m.\u001b[49m\u001b[43mroad_id\u001b[49m\u001b[43m,\u001b[49m\n\u001b[32m     95\u001b[39m \u001b[43m        \u001b[49m\u001b[38;5;28;43mself\u001b[39;49m\u001b[43m.\u001b[49m\u001b[43mlane_section_ordinal\u001b[49m\u001b[43m,\u001b[49m\n\u001b[32m     96\u001b[39m \u001b[43m        \u001b[49m\u001b[43mlane_xml\u001b[49m\u001b[43m,\u001b[49m\n\u001b[32m     97\u001b[39m \u001b[43m        \u001b[49m\u001b[38;5;28;43mself\u001b[39;49m\u001b[43m.\u001b[49m\u001b[43mlane_section_offset_line\u001b[49m\u001b[43m,\u001b[49m\n\u001b[32m     98\u001b[39m \u001b[43m        \u001b[49m\u001b[38;5;28;43mself\u001b[39;49m\u001b[43m.\u001b[49m\u001b[43mlane_section_reference_line\u001b[49m\u001b[43m,\u001b[49m\n\u001b[32m     99\u001b[39m \u001b[43m        \u001b[49m\u001b[43morientation\u001b[49m\u001b[43m,\u001b[49m\n\u001b[32m    100\u001b[39m \u001b[43m        \u001b[49m\u001b[38;5;28;43mself\u001b[39;49m\u001b[43m.\u001b[49m\u001b[43mtraffic_orientation\u001b[49m\u001b[43m,\u001b[49m\n\u001b[32m    101\u001b[39m \u001b[43m        \u001b[49m\u001b[38;5;28;43mself\u001b[39;49m\u001b[43m.\u001b[49m\u001b[43mlane_section_z\u001b[49m\u001b[43m,\u001b[49m\n\u001b[32m    102\u001b[39m \u001b[43m        \u001b[49m\u001b[43minner_lane\u001b[49m\u001b[43m=\u001b[49m\u001b[43minner_lane\u001b[49m\u001b[43m,\u001b[49m\n\u001b[32m    103\u001b[39m \u001b[43m    \u001b[49m\u001b[43m)\u001b[49m\n\u001b[32m    104\u001b[39m     \u001b[38;5;28;01mif\u001b[39;00m ignored_lanes:\n\u001b[32m    105\u001b[39m         \u001b[38;5;28;01mif\u001b[39;00m lane_obj.type \u001b[38;5;129;01min\u001b[39;00m \u001b[38;5;28mself\u001b[39m.ignored_lane_types:\n",
      "\u001b[36mFile \u001b[39m\u001b[32m~\\AppData\\Roaming\\Python\\Python312\\site-packages\\pyxodr\\road_objects\\lane.py:143\u001b[39m, in \u001b[36mLane.__init__\u001b[39m\u001b[34m(self, road_id, lane_section_id, lane_xml, lane_offset_line, lane_section_reference_line, orientation, traffic_orientation, lane_z_coords, inner_lane)\u001b[39m\n\u001b[32m    141\u001b[39m     \u001b[38;5;28mself\u001b[39m.lane_reference_line = lane_offset_line\n\u001b[32m    142\u001b[39m \u001b[38;5;28;01melse\u001b[39;00m:\n\u001b[32m--> \u001b[39m\u001b[32m143\u001b[39m     \u001b[38;5;28mself\u001b[39m.lane_reference_line = \u001b[43minner_lane\u001b[49m\u001b[43m.\u001b[49m\u001b[43mboundary_line\u001b[49m\n\u001b[32m    145\u001b[39m \u001b[38;5;28mself\u001b[39m.successor_data: List[Tuple[Lane, \u001b[38;5;28mstr\u001b[39m]] = []\n\u001b[32m    146\u001b[39m \u001b[38;5;28mself\u001b[39m.predecessor_data: List[Tuple[Lane, \u001b[38;5;28mstr\u001b[39m]] = []\n",
      "\u001b[36mFile \u001b[39m\u001b[32mc:\\Python312\\Lib\\functools.py:993\u001b[39m, in \u001b[36mcached_property.__get__\u001b[39m\u001b[34m(self, instance, owner)\u001b[39m\n\u001b[32m    991\u001b[39m val = cache.get(\u001b[38;5;28mself\u001b[39m.attrname, _NOT_FOUND)\n\u001b[32m    992\u001b[39m \u001b[38;5;28;01mif\u001b[39;00m val \u001b[38;5;129;01mis\u001b[39;00m _NOT_FOUND:\n\u001b[32m--> \u001b[39m\u001b[32m993\u001b[39m     val = \u001b[38;5;28;43mself\u001b[39;49m\u001b[43m.\u001b[49m\u001b[43mfunc\u001b[49m\u001b[43m(\u001b[49m\u001b[43minstance\u001b[49m\u001b[43m)\u001b[49m\n\u001b[32m    994\u001b[39m     \u001b[38;5;28;01mtry\u001b[39;00m:\n\u001b[32m    995\u001b[39m         cache[\u001b[38;5;28mself\u001b[39m.attrname] = val\n",
      "\u001b[36mFile \u001b[39m\u001b[32m~\\AppData\\Roaming\\Python\\Python312\\site-packages\\pyxodr\\road_objects\\lane.py:215\u001b[39m, in \u001b[36mLane.boundary_line\u001b[39m\u001b[34m(self)\u001b[39m\n\u001b[32m    204\u001b[39m \u001b[38;5;250m\u001b[39m\u001b[33;03m\"\"\"\u001b[39;00m\n\u001b[32m    205\u001b[39m \u001b[33;03mReturn the boundary line of this lane.\u001b[39;00m\n\u001b[32m    206\u001b[39m \n\u001b[32m   (...)\u001b[39m\u001b[32m    212\u001b[39m \u001b[33;03m    Boundary of the far edge of the lane.\u001b[39;00m\n\u001b[32m    213\u001b[39m \u001b[33;03m\"\"\"\u001b[39;00m\n\u001b[32m    214\u001b[39m \u001b[38;5;28;01mif\u001b[39;00m \u001b[38;5;28mlen\u001b[39m(\u001b[38;5;28mself\u001b[39m.lane_section_reference_line) == \u001b[32m0\u001b[39m:\n\u001b[32m--> \u001b[39m\u001b[32m215\u001b[39m     \u001b[38;5;28;01mraise\u001b[39;00m \u001b[38;5;167;01mIndexError\u001b[39;00m(\u001b[33mf\u001b[39m\u001b[33m\"\u001b[39m\u001b[33mZero length reference line in lane \u001b[39m\u001b[38;5;132;01m{\u001b[39;00m\u001b[38;5;28mself\u001b[39m\u001b[38;5;132;01m}\u001b[39;00m\u001b[33m\"\u001b[39m)\n\u001b[32m    217\u001b[39m lane_uses_widths = \u001b[38;5;28mself\u001b[39m.lane_xml.findall(\u001b[33m\"\u001b[39m\u001b[33mwidth\u001b[39m\u001b[33m\"\u001b[39m) != []\n\u001b[32m    218\u001b[39m lane_uses_borders = \u001b[38;5;28mself\u001b[39m.lane_xml.findall(\u001b[33m\"\u001b[39m\u001b[33mborder\u001b[39m\u001b[33m\"\u001b[39m) != []\n",
      "\u001b[31mIndexError\u001b[39m: Zero length reference line in lane Lane_-1/Section_1/Road_716"
     ]
    }
   ],
   "source": [
    "roads = road_network.get_roads()\n",
    "print(f\"Number of roads in the network: {len(roads)}\")\n",
    "print(f\"Type: {type(roads[0])}\\nRoads: {roads}\")"
   ]
  },
  {
   "cell_type": "markdown",
   "id": "8a3083c5",
   "metadata": {},
   "source": [
    "Roads Data Analysis in JSON"
   ]
  },
  {
   "cell_type": "code",
   "execution_count": 4,
   "id": "4826ec18",
   "metadata": {},
   "outputs": [
    {
     "name": "stdout",
     "output_type": "stream",
     "text": [
      "\n",
      "Reading JSON file: ../../data/processed/carla\\town01.json\n",
      "Number of roads in the JSON: 346\n",
      "Max geometries in a road: 3087\n",
      "Min geometries in a road: 158\n",
      "Total geometries in the JSON: 167262\n",
      "Average geometries per road: 483.4161849710983\n",
      "\n",
      "Reading JSON file: ../../data/processed/carla\\town02.json\n",
      "Number of roads in the JSON: 244\n",
      "Max geometries in a road: 1767\n",
      "Min geometries in a road: 146\n",
      "Total geometries in the JSON: 77025\n",
      "Average geometries per road: 315.67622950819674\n",
      "\n",
      "Reading JSON file: ../../data/processed/carla\\town04.json\n",
      "Number of roads in the JSON: 1230\n",
      "Max geometries in a road: 5854\n",
      "Min geometries in a road: 4\n",
      "Total geometries in the JSON: 826225\n",
      "Average geometries per road: 671.7276422764228\n",
      "\n",
      "Reading JSON file: ../../data/processed/carla\\town06.json\n",
      "Number of roads in the JSON: 1232\n",
      "Max geometries in a road: 4706\n",
      "Min geometries in a road: 2\n",
      "Total geometries in the JSON: 647527\n",
      "Average geometries per road: 525.5900974025974\n",
      "\n",
      "Reading JSON file: ../../data/processed/carla\\town10.json\n",
      "Number of roads in the JSON: 430\n",
      "Max geometries in a road: 1204\n",
      "Min geometries in a road: 31\n",
      "Total geometries in the JSON: 150874\n",
      "Average geometries per road: 350.86976744186046\n"
     ]
    }
   ],
   "source": [
    "json_dir = \"../../data/processed/carla\"  # replace with your directory path\n",
    "json_files = glob.glob(os.path.join(json_dir, \"*.json\"))\n",
    "\n",
    "for jf in json_files:\n",
    "    with open(jf, \"r\") as f:\n",
    "        print(f\"\\nReading JSON file: {jf}\")\n",
    "        data = json.load(f)\n",
    "        if \"roads\" in data:\n",
    "            num_geometries = [len(road['geometry']) for road in data['roads']]\n",
    "            print(f\"Number of roads in the JSON: {len(data['roads'])}\")\n",
    "            print(f\"Max geometries in a road: {max(num_geometries)}\")\n",
    "            print(f\"Min geometries in a road: {min(num_geometries)}\")\n",
    "            print(f\"Total geometries in the JSON: {sum(num_geometries)}\")\n",
    "            print(f\"Average geometries per road: {sum(num_geometries) / len(num_geometries)}\")\n",
    "        else:\n",
    "            print(\"No 'roads' key found in this JSON file.\")\n"
   ]
  }
 ],
 "metadata": {
  "kernelspec": {
   "display_name": "Python 3",
   "language": "python",
   "name": "python3"
  },
  "language_info": {
   "codemirror_mode": {
    "name": "ipython",
    "version": 3
   },
   "file_extension": ".py",
   "mimetype": "text/x-python",
   "name": "python",
   "nbconvert_exporter": "python",
   "pygments_lexer": "ipython3",
   "version": "3.12.6"
  }
 },
 "nbformat": 4,
 "nbformat_minor": 5
}
