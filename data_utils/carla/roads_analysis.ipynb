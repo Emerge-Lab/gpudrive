{
 "cells": [
  {
   "cell_type": "code",
   "execution_count": null,
   "id": "0b6f726c",
   "metadata": {},
   "outputs": [],
   "source": [
    "import sys\n",
    "import os\n",
    "import json\n",
    "import glob\n",
    "import numpy as np\n",
    "from lxml import etree\n",
    "import pyxodr\n",
    "from pyxodr.road_objects.road import Road\n",
    "from pyxodr.road_objects.lane import Lane,ConnectionPosition,LaneOrientation, TrafficOrientation\n",
    "from pyxodr.road_objects.junction import Junction\n",
    "from pyxodr.road_objects.lane_section import LaneSection\n",
    "from pyxodr.road_objects.network import RoadNetwork\n",
    "from shapely.geometry import Polygon\n",
    "from enum import IntEnum\n"
   ]
  },
  {
   "cell_type": "code",
   "execution_count": null,
   "id": "79719698",
   "metadata": {},
   "outputs": [],
   "source": [
    "carla_map_dir = 'C:\\\\Carla-0.10.0\\\\CarlaUnreal\\\\Content\\\\Carla\\\\Maps\\\\OpenDrive'\n",
    "odr_file = os.path.join(carla_map_dir, 'Town07.xodr')\n",
    "\n",
    "road_network = RoadNetwork(xodr_file_path=odr_file)"
   ]
  },
  {
   "cell_type": "code",
   "execution_count": null,
   "id": "6fb6ef11",
   "metadata": {},
   "outputs": [],
   "source": [
    "roads = road_network.get_roads()\n",
    "print(f\"Number of roads in the network: {len(roads)}\")\n",
    "print(f\"Type: {type(roads[0])}\\nRoads: {roads}\")"
   ]
  },
  {
   "cell_type": "markdown",
   "id": "8a3083c5",
   "metadata": {},
   "source": [
    "Roads Data Analysis in JSON"
   ]
  },
  {
   "cell_type": "code",
   "execution_count": null,
   "id": "4826ec18",
   "metadata": {},
   "outputs": [
    {
     "name": "stdout",
     "output_type": "stream",
     "text": [
      "\n",
      "Reading JSON file: town01.json\n",
      "Number of roads in the JSON: 346\n",
      "Max geometries in a road: 3087\n",
      "Min geometries in a road: 158\n",
      "Total geometries in the JSON: 167262\n",
      "Average geometries per road: 483.4161849710983\n",
      "\n",
      "Reading JSON file: town02.json\n",
      "Number of roads in the JSON: 244\n",
      "Max geometries in a road: 1767\n",
      "Min geometries in a road: 146\n",
      "Total geometries in the JSON: 77025\n",
      "Average geometries per road: 315.67622950819674\n",
      "\n",
      "Reading JSON file: town04.json\n",
      "Number of roads in the JSON: 1230\n",
      "Max geometries in a road: 5854\n",
      "Min geometries in a road: 4\n",
      "Total geometries in the JSON: 826225\n",
      "Average geometries per road: 671.7276422764228\n",
      "\n",
      "Reading JSON file: town06.json\n",
      "Number of roads in the JSON: 1232\n",
      "Max geometries in a road: 4706\n",
      "Min geometries in a road: 2\n",
      "Total geometries in the JSON: 647527\n",
      "Average geometries per road: 525.5900974025974\n",
      "\n",
      "Reading JSON file: town10.json\n",
      "Number of roads in the JSON: 430\n",
      "Max geometries in a road: 1204\n",
      "Min geometries in a road: 31\n",
      "Total geometries in the JSON: 150874\n",
      "Average geometries per road: 350.86976744186046\n"
     ]
    }
   ],
   "source": [
    "json_dir = \"../../data/processed/carla\"  # replace with your directory path\n",
    "json_files = glob.glob(os.path.join(json_dir, \"*.json\"))\n",
    "\n",
    "for jf in json_files:\n",
    "    with open(jf, \"r\") as f:\n",
    "        print(f\"\\nReading JSON file: {jf}\")\n",
    "        data = json.load(f)\n",
    "        if \"roads\" in data:\n",
    "            num_geometries = [len(road['geometry']) for road in data['roads']]\n",
    "            print(f\"Number of roads in the JSON: {len(data['roads'])}\")\n",
    "            print(f\"Max geometries in a road: {max(num_geometries)}\")\n",
    "            print(f\"Min geometries in a road: {min(num_geometries)}\")\n",
    "            print(f\"Total geometries in the JSON: {sum(num_geometries)}\")\n",
    "            print(f\"Average geometries per road: {sum(num_geometries) / len(num_geometries)}\")\n",
    "        else:\n",
    "            print(\"No 'roads' key found in this JSON file.\")\n"
   ]
  }
 ],
 "metadata": {
  "language_info": {
   "name": "python"
  }
 },
 "nbformat": 4,
 "nbformat_minor": 5
}
