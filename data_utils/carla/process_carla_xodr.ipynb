{
 "cells": [
  {
   "cell_type": "code",
   "execution_count": 12,
   "id": "511a7a1d",
   "metadata": {},
   "outputs": [],
   "source": [
    "import sys\n",
    "import os\n",
    "import pyxodr"
   ]
  },
  {
   "cell_type": "code",
   "execution_count": 33,
   "id": "a47184d7",
   "metadata": {},
   "outputs": [],
   "source": [
    "import json\n",
    "import numpy as np\n",
    "from lxml import etree\n",
    "import pyxodr\n",
    "from pyxodr.road_objects.road import Road\n",
    "from pyxodr.road_objects.lane import Lane,ConnectionPosition,LaneOrientation, TrafficOrientation\n",
    "from pyxodr.road_objects.junction import Junction\n",
    "from pyxodr.road_objects.lane_section import LaneSection\n",
    "from pyxodr.road_objects.network import RoadNetwork\n",
    "from shapely.geometry import Polygon\n",
    "from enum import IntEnum\n"
   ]
  },
  {
   "cell_type": "code",
   "execution_count": 86,
   "id": "c0db4163",
   "metadata": {},
   "outputs": [],
   "source": [
    "town_name = 'town10HD'\n",
    "json_file = town_name + '.json'\n",
    "carla_map_dir = 'C:\\\\Carla-0.10.0\\\\CarlaUnreal\\\\Content\\\\Carla\\\\Maps\\\\OpenDrive'\n",
    "odr_file = os.path.join(carla_map_dir, town_name + '.xodr')"
   ]
  },
  {
   "cell_type": "code",
   "execution_count": 87,
   "id": "36d641f5",
   "metadata": {},
   "outputs": [
    {
     "name": "stdout",
     "output_type": "stream",
     "text": [
      "Number of roads in the network: 108\n",
      "Type: <class 'pyxodr.road_objects.road.Road'>\n",
      "Roads: [Road_0, Road_1, Road_2, Road_3, Road_4, Road_5, Road_6, Road_7, Road_8, Road_9, Road_10, Road_11, Road_12, Road_13, Road_14, Road_15, Road_16, Road_17, Road_18, Road_19, Road_20, Road_21, Road_22, Road_24, Road_33, Road_41, Road_49, Road_89, Road_90, Road_100, Road_105, Road_111, Road_125, Road_150, Road_151, Road_152, Road_156, Road_160, Road_167, Road_172, Road_179, Road_254, Road_255, Road_256, Road_258, Road_268, Road_284, Road_286, Road_296, Road_315, Road_331, Road_338, Road_344, Road_361, Road_375, Road_382, Road_395, Road_466, Road_467, Road_469, Road_472, Road_474, Road_476, Road_480, Road_486, Road_515, Road_516, Road_565, Road_566, Road_579, Road_584, Road_597, Road_608, Road_617, Road_630, Road_637, Road_644, Road_655, Road_675, Road_676, Road_703, Road_707, Road_712, Road_718, Road_735, Road_736, Road_763, Road_769, Road_780, Road_787, Road_795, Road_801, Road_811, Road_823, Road_832, Road_838, Road_842, Road_843, Road_848, Road_852, Road_875, Road_876, Road_896, Road_900, Road_933, Road_934, Road_939, Road_942]\n"
     ]
    }
   ],
   "source": [
    "road_network = RoadNetwork(xodr_file_path=odr_file)\n",
    "roads = road_network.get_roads()\n",
    "print(f\"Number of roads in the network: {len(roads)}\")\n",
    "print(f\"Type: {type(roads[0])}\\nRoads: {roads}\")"
   ]
  },
  {
   "cell_type": "markdown",
   "id": "2ef9f62a",
   "metadata": {},
   "source": [
    "Road Edges, Road Lines, Lanes and Sidewalks extraction"
   ]
  },
  {
   "cell_type": "code",
   "execution_count": 88,
   "id": "817a2402",
   "metadata": {},
   "outputs": [],
   "source": [
    "class MapType(IntEnum):\n",
    "    LANE_UNDEFINED = 0\n",
    "    LANE_FREEWAY = 1\n",
    "    LANE_SURFACE_STREET = 2\n",
    "    LANE_BIKE_LANE = 3\n",
    "    # Original definition skips 4\n",
    "    ROAD_LINE_UNKNOWN = 5\n",
    "    ROAD_LINE_BROKEN_SINGLE_WHITE = 6\n",
    "    ROAD_LINE_SOLID_SINGLE_WHITE = 7\n",
    "    ROAD_LINE_SOLID_DOUBLE_WHITE = 8\n",
    "    ROAD_LINE_BROKEN_SINGLE_YELLOW = 9\n",
    "    ROAD_LINE_BROKEN_DOUBLE_YELLOW = 10\n",
    "    ROAD_LINE_SOLID_SINGLE_YELLOW = 11\n",
    "    ROAD_LINE_SOLID_DOUBLE_YELLOW = 12\n",
    "    ROAD_LINE_PASSING_DOUBLE_YELLOW = 13\n",
    "    ROAD_EDGE_UNKNOWN = 14\n",
    "    ROAD_EDGE_BOUNDARY = 15\n",
    "    ROAD_EDGE_MEDIAN = 16\n",
    "    STOP_SIGN = 17\n",
    "    CROSSWALK = 18\n",
    "    SPEED_BUMP = 19\n",
    "    DRIVEWAY = 20  # New womd datatype in v1.2.0: Driveway entrances\n",
    "    UNKNOWN = -1\n",
    "    NUM_TYPES = 21\n"
   ]
  },
  {
   "cell_type": "code",
   "execution_count": 90,
   "id": "93a01557",
   "metadata": {},
   "outputs": [],
   "source": [
    "# Reset the \"roads\" key to an empty list while preserving other fields\n",
    "with open(json_file, \"r\") as f:\n",
    "    xodr_json = json.load(f)\n",
    "\n",
    "xodr_json[\"roads\"] = []\n",
    "\n",
    "with open(json_file, \"w\") as f:\n",
    "    json.dump(xodr_json, f, indent=2)"
   ]
  },
  {
   "cell_type": "code",
   "execution_count": 91,
   "id": "b10b643b",
   "metadata": {},
   "outputs": [],
   "source": [
    "def save_lane_section_to_json(xodr_json, id, road_edges, road_lines, lanes, sidewalks = []):\n",
    "    roads = xodr_json.get(\"roads\", [])\n",
    "    for road_edge in road_edges:\n",
    "        # edge_polygon = Polygon(road_edge)\n",
    "        edge_data = {\n",
    "            \"id\": id,\n",
    "            \"map_element_id\": int(MapType.ROAD_EDGE_BOUNDARY),\n",
    "            \"type\": \"road_edge\",\n",
    "            \"geometry\": [{\"x\": float(pt[0]), \"y\": float(pt[1]), \"z\": 0.0} for pt in road_edge]\n",
    "        }\n",
    "        roads.append(edge_data)\n",
    "        id += 1\n",
    "    for road_line in road_lines:\n",
    "        line_data = {\n",
    "            \"id\": id,\n",
    "            \"map_element_id\": int(MapType.ROAD_LINE_BROKEN_SINGLE_WHITE),\n",
    "            \"type\": \"road_line\",\n",
    "            \"geometry\": [{\"x\": float(pt[0]), \"y\": float(pt[1]), \"z\": 0.0} for pt in road_line]\n",
    "        }\n",
    "        roads.append(line_data)\n",
    "        id += 1\n",
    "    for lane in lanes:\n",
    "        lane_data = {\n",
    "            \"id\": id,\n",
    "            \"map_element_id\": int(MapType.LANE_SURFACE_STREET),\n",
    "            \"type\": \"lane\",\n",
    "            \"geometry\": [{\"x\": float(pt[0]), \"y\": float(pt[1]), \"z\": 0.0} for pt in lane]\n",
    "        }\n",
    "        roads.append(lane_data)\n",
    "        id += 1\n",
    "    # for sidewalk in sidewalks:\n",
    "    #     sidewalk_data = {\n",
    "    #         \"id\": id,\n",
    "    #         \"map_element_id\": int(MapType.LANE_BIKE_LANE),\n",
    "    #         \"type\": \"sidewalk\",\n",
    "    #         \"geometry\": [{\"x\": float(pt[0]), \"y\": float(pt[1]), \"z\": 0.0} for pt in sidewalk]\n",
    "    #     }\n",
    "    #     roads.append(sidewalk_data)\n",
    "    #     id += 1\n",
    "    xodr_json[\"roads\"] = roads\n",
    "    return id"
   ]
  },
  {
   "cell_type": "code",
   "execution_count": 92,
   "id": "e646b39e",
   "metadata": {},
   "outputs": [],
   "source": [
    "def get_lane_data(lane, type = \"BOUNDARY\"):\n",
    "    if type == \"BOUNDARY\":\n",
    "        points = lane.boundary_line\n",
    "    elif type == \"CENTERLINE\":\n",
    "        points = lane.centre_line\n",
    "    else:\n",
    "        raise ValueError(f\"Unknown lane data type: {type}\")\n",
    "    \n",
    "    # Check traffic direction\n",
    "    travel_dir = None\n",
    "    vector_lane = lane.lane_xml.find(\".//userData/vectorLane\")\n",
    "    if vector_lane is not None:\n",
    "        travel_dir = vector_lane.get(\"travelDir\")\n",
    "    \n",
    "    if travel_dir == \"backward\":\n",
    "        # Reverse points for backward travel\n",
    "        points = points[::-1]\n",
    "\n",
    "    return points"
   ]
  },
  {
   "cell_type": "code",
   "execution_count": 93,
   "id": "84ac898f",
   "metadata": {},
   "outputs": [
    {
     "name": "stdout",
     "output_type": "stream",
     "text": [
      "Network has 108 roads.\n",
      "Total roads JSON count: 430\n"
     ]
    }
   ],
   "source": [
    "# Go only till last \"driving\" lane(\"parking\" NTD)\n",
    "# \"median\" lane means a road edge(add after all of them appear)\n",
    "# Add \"sidewalk\" lane as well\n",
    "\n",
    "id = 0\n",
    "roads_json_cnt = [[],[],[]]\n",
    "print(f\"Network has {len(roads)} roads.\")\n",
    "for road_obj in roads:\n",
    "    # print(f\"Road ID: {road_obj.id}\")\n",
    "    lane_sections = road_obj.lane_sections\n",
    "    # print(f\"Lane Sections: {lane_sections}\")\n",
    "    for lane_section in lane_sections:\n",
    "        # print(f\"Lane Section ID: {lane_section.lane_section_ordinal}\")\n",
    "        # print(f\"Number of Left Lanes: {len(lane_section.left_lanes)}\")\n",
    "        # print(f\"Number of Right Lanes: {len(lane_section.right_lanes)}\")\n",
    "        road_edges = []\n",
    "        road_lines = []\n",
    "        lanes = []\n",
    "        # sidwalks = []\n",
    "        \n",
    "        left_immediate_driveable = False\n",
    "        right_immediate_driveable = False\n",
    "\n",
    "        # Left Lanes\n",
    "        add_lane_data = False\n",
    "        add_edge_data = False\n",
    "        previous_lane = None\n",
    "        for i, left_lane in enumerate(lane_section.left_lanes):\n",
    "            if left_lane.type == 'driving' or left_lane.type == 'parking':\n",
    "                if i == 0:\n",
    "                    left_immediate_driveable = True\n",
    "\n",
    "                if add_lane_data:\n",
    "                    road_lines.append(get_lane_data(previous_lane, \"BOUNDARY\"))\n",
    "                    lanes.append(get_lane_data(previous_lane, \"CENTERLINE\"))\n",
    "                # Add outer edge as road edge\n",
    "                elif add_edge_data:\n",
    "                    road_edges.append(get_lane_data(previous_lane, \"BOUNDARY\"))\n",
    "                add_lane_data = True\n",
    "                add_edge_data = False\n",
    "            else:\n",
    "                # Add inner lane as road edge\n",
    "                if add_lane_data and i != 0:\n",
    "                    lanes.append(get_lane_data(previous_lane, \"CENTERLINE\"))\n",
    "                    road_edges.append(get_lane_data(previous_lane, \"BOUNDARY\"))\n",
    "                add_edge_data = True\n",
    "                add_lane_data = False\n",
    "            previous_lane = left_lane\n",
    "\n",
    "        if add_lane_data:\n",
    "            lanes.append(get_lane_data(previous_lane, \"CENTERLINE\"))\n",
    "            road_edges.append(get_lane_data(previous_lane, \"BOUNDARY\"))\n",
    "        # elif add_edge_data:\n",
    "            # if previous_lane.type == 'sidewalk':\n",
    "            #     sidwalks.append(get_lane_data(previous_lane, \"BOUNDARY\"))\n",
    "        \n",
    "        # print(\"LEFT STATS\")\n",
    "        # print(f\"Number of Road edges: {len(road_edges)}\")\n",
    "        # print(f\"Road lines: {len(road_lines)}\")\n",
    "        # print(f\"Lanes: {len(lanes)}\")\n",
    "        # print(f\"Sidewalks: {len(sidwalks)}\")\n",
    "\n",
    "        # Right Lanes\n",
    "        add_lane_data = False\n",
    "        add_edge_data = False\n",
    "        previous_lane = None\n",
    "        for i, right_lane in enumerate(lane_section.right_lanes):\n",
    "            if right_lane.type == 'driving' or right_lane.type == 'parking':\n",
    "                if i == 0:\n",
    "                    right_immediate_driveable = True\n",
    "\n",
    "                if add_lane_data:\n",
    "                    road_lines.append(get_lane_data(previous_lane, \"BOUNDARY\"))\n",
    "                    lanes.append(get_lane_data(previous_lane, \"CENTERLINE\"))\n",
    "                # Add outer edge as road edge\n",
    "                elif add_edge_data:\n",
    "                    road_edges.append(get_lane_data(previous_lane, \"BOUNDARY\"))\n",
    "                add_lane_data = True\n",
    "                add_edge_data = False\n",
    "            else:\n",
    "                # Add inner lane as road edge\n",
    "                if add_lane_data and i != 0:\n",
    "                    lanes.append(get_lane_data(previous_lane, \"CENTERLINE\"))\n",
    "                    road_edges.append(get_lane_data(previous_lane, \"BOUNDARY\"))\n",
    "                add_edge_data = True\n",
    "                add_lane_data = False\n",
    "            previous_lane = right_lane\n",
    "\n",
    "        if add_lane_data:\n",
    "            lanes.append(get_lane_data(previous_lane, \"CENTERLINE\"))\n",
    "            road_edges.append(get_lane_data(previous_lane, \"BOUNDARY\"))\n",
    "        # elif add_edge_data:\n",
    "            #     if previous_lane.type == 'sidewalk':\n",
    "            #         sidwalks.append(get_lane_data(previous_lane, \"BOUNDARY\"))\n",
    "        \n",
    "        # print(f\"Number of Road edges in {road_obj.id}: {len(road_edges)}\")\n",
    "        # print(f\"Road lines in {road_obj.id}: {len(road_lines)}\")\n",
    "        # print(f\"Lanes in {road_obj.id}: {len(lanes)}\")\n",
    "        # print(f\"Sidewalks in {road_obj.id}: {len(sidwalks)}\")\n",
    "\n",
    "        # If atleast one side has no immediate driveable lane add center as road edge\n",
    "        if not left_immediate_driveable or not right_immediate_driveable:\n",
    "            road_edges.append(lane_section.lane_section_reference_line)\n",
    "        else:\n",
    "            road_lines.append(lane_section.lane_section_reference_line)\n",
    "            \n",
    "        if len(road_lines) == 0 and len(lanes) == 0:\n",
    "            road_edges = []\n",
    "        id = save_lane_section_to_json(xodr_json, id, road_edges, road_lines, lanes)\n",
    "        roads_json_cnt[0].append(len(road_edges))\n",
    "        roads_json_cnt[1].append(len(road_lines))\n",
    "        roads_json_cnt[2].append(len(lanes))\n",
    "        # if len(lanes) == 0 and len(road_lines) != 0:\n",
    "        #     print(f\"Road: {road_obj.id}, Lane Section: {lane_section.lane_section_ordinal}\")\n",
    "        #     print(f\"Road edges: {len(road_edges)}, Road lines: {len(road_lines)}, Lanes: {len(lanes)}\")\n",
    "    #     break\n",
    "    # break\n",
    "print(f\"Total roads JSON count: {sum(roads_json_cnt[0]) + sum(roads_json_cnt[1]) + sum(roads_json_cnt[2])}\")\n",
    "# print(f\"Road edges count: {roads_json_cnt[0]}\")\n",
    "# print(f\"Road lines count: {roads_json_cnt[1]}\")\n",
    "# print(f\"Lanes count: {roads_json_cnt[2]}\")"
   ]
  },
  {
   "cell_type": "code",
   "execution_count": 94,
   "id": "0d267155",
   "metadata": {},
   "outputs": [],
   "source": [
    "# Save to file\n",
    "with open(json_file, \"w\") as f:\n",
    "    json.dump(xodr_json, f, indent=2)"
   ]
  },
  {
   "cell_type": "code",
   "execution_count": 95,
   "id": "bcf9282a",
   "metadata": {},
   "outputs": [
    {
     "name": "stdout",
     "output_type": "stream",
     "text": [
      "0\n",
      "[]\n"
     ]
    }
   ],
   "source": [
    "print(len(road_edges))\n",
    "# print(road_edges[0].shape)\n",
    "# print(road_lines[0].shape)\n",
    "# print(lanes[0].shape)\n",
    "# print(sidwalks[0].shape)\n",
    "print(road_edges)\n",
    "# print(road_lines)\n",
    "# print(lanes)\n",
    "# print(sidwalks)"
   ]
  },
  {
   "cell_type": "code",
   "execution_count": 96,
   "id": "6589139b",
   "metadata": {},
   "outputs": [
    {
     "name": "stdout",
     "output_type": "stream",
     "text": [
      "Total number of road elements: 430\n",
      "\n",
      "First road element:\n",
      "{'id': 0, 'map_element_id': 15, 'type': 'road_edge', 'geometry': [{'x': 97.73075659661255, 'y': 22.783206836743506, 'z': 0.0}, {'x': 97.72926979992536, 'y': 22.682382543591004, 'z': 0.0}, {'x': 97.72778279791288, 'y': 22.580852389941146, 'z': 0.0}, {'x': 97.72630596461157, 'y': 22.47834470892591, 'z': 0.0}, {'x': 97.72485385511014, 'y': 22.375542026511624, 'z': 0.0}, {'x': 97.72343079011893, 'y': 22.272738937957236, 'z': 0.0}, {'x': 97.72203676975151, 'y': 22.169935451470522, 'z': 0.0}, {'x': 97.72067179411908, 'y': 22.067131575251377, 'z': 0.0}, {'x': 97.71933586333067, 'y': 21.964327317504686, 'z': 0.0}, {'x': 97.71802897749286, 'y': 21.86152268644325, 'z': 0.0}, {'x': 97.71675113670992, 'y': 21.75871769026707, 'z': 0.0}, {'x': 97.71550234108379, 'y': 21.65591233717617, 'z': 0.0}, {'x': 97.7142825907142, 'y': 21.553106635381464, 'z': 0.0}, {'x': 97.71309188569849, 'y': 21.450300593085995, 'z': 0.0}, {'x': 97.71193022613168, 'y': 21.34749421849382, 'z': 0.0}, {'x': 97.71079761210652, 'y': 21.244687519814946, 'z': 0.0}, {'x': 97.70969404371328, 'y': 21.141880505249528, 'z': 0.0}, {'x': 97.70861952104013, 'y': 21.039073183003694, 'z': 0.0}, {'x': 97.70757404417277, 'y': 20.936265561282557, 'z': 0.0}, {'x': 97.70655761319469, 'y': 20.833457648289336, 'z': 0.0}, {'x': 97.70557022818701, 'y': 20.730649452233155, 'z': 0.0}, {'x': 97.70461188922849, 'y': 20.62784098131727, 'z': 0.0}, {'x': 97.70368259639567, 'y': 20.525032243746896, 'z': 0.0}, {'x': 97.70278234976263, 'y': 20.422223247727302, 'z': 0.0}, {'x': 97.70191114940133, 'y': 20.319414001459812, 'z': 0.0}, {'x': 97.70106899538123, 'y': 20.216604513157613, 'z': 0.0}, {'x': 97.70025588776959, 'y': 20.1137947910201, 'z': 0.0}, {'x': 97.6994718266313, 'y': 20.0109848432536, 'z': 0.0}, {'x': 97.6987168120289, 'y': 19.90817467806444, 'z': 0.0}, {'x': 97.6979908440227, 'y': 19.805364303660948, 'z': 0.0}, {'x': 97.69729392267058, 'y': 19.7025537282416, 'z': 0.0}, {'x': 97.69662604802826, 'y': 19.59974296001279, 'z': 0.0}, {'x': 97.69598722014901, 'y': 19.49693200718387, 'z': 0.0}, {'x': 97.6953774390838, 'y': 19.39412087796225, 'z': 0.0}, {'x': 97.69479670488134, 'y': 19.29130958054449, 'z': 0.0}, {'x': 97.69424501758797, 'y': 19.188498123143926, 'z': 0.0}, {'x': 97.69372237724775, 'y': 19.085686513963086, 'z': 0.0}, {'x': 97.69322878390237, 'y': 18.982874761207437, 'z': 0.0}, {'x': 97.6927642375912, 'y': 18.88006287308346, 'z': 0.0}, {'x': 97.69232873835139, 'y': 18.777250857794687, 'z': 0.0}, {'x': 97.69192228621775, 'y': 18.674438723543673, 'z': 0.0}, {'x': 97.69154488122264, 'y': 18.571626478545795, 'z': 0.0}, {'x': 97.69119652339626, 'y': 18.46881413099672, 'z': 0.0}, {'x': 97.69087721276635, 'y': 18.366001689108895, 'z': 0.0}, {'x': 97.69058694935849, 'y': 18.26318916107997, 'z': 0.0}, {'x': 97.69032573319579, 'y': 18.160376555125367, 'z': 0.0}, {'x': 97.69009356429919, 'y': 18.05756387944077, 'z': 0.0}, {'x': 97.68989044268717, 'y': 17.954751142241612, 'z': 0.0}, {'x': 97.68971636837601, 'y': 17.851938351719657, 'z': 0.0}, {'x': 97.6895713413796, 'y': 17.749125516096253, 'z': 0.0}, {'x': 97.68945536170955, 'y': 17.646312643565143, 'z': 0.0}, {'x': 97.68936842937505, 'y': 17.543499742341762, 'z': 0.0}, {'x': 97.68931054438318, 'y': 17.440686820620854, 'z': 0.0}, {'x': 97.68928170673846, 'y': 17.33787388661687, 'z': 0.0}, {'x': 97.68928191644335, 'y': 17.235060948525526, 'z': 0.0}, {'x': 97.68931117349774, 'y': 17.132248014563263, 'z': 0.0}, {'x': 97.68936947789936, 'y': 17.02943509293172, 'z': 0.0}, {'x': 97.68945682964356, 'y': 16.92662219183549, 'z': 0.0}, {'x': 97.68957322872343, 'y': 16.8238093194772, 'z': 0.0}, {'x': 97.68971867512968, 'y': 16.72099648406735, 'z': 0.0}, {'x': 97.68989316885077, 'y': 16.61818369380561, 'z': 0.0}, {'x': 97.6900967098727, 'y': 16.515370956908395, 'z': 0.0}, {'x': 97.69032929817934, 'y': 16.412558281570426, 'z': 0.0}, {'x': 97.6905909337521, 'y': 16.309745676002198, 'z': 0.0}, {'x': 97.69088200310517, 'y': 16.20691072419621, 'z': 0.0}, {'x': 97.6912020748464, 'y': 16.104097580208872, 'z': 0.0}, {'x': 97.69155119178964, 'y': 16.001285234564783, 'z': 0.0}, {'x': 97.69191195047799, 'y': 15.899438999633889, 'z': 0.0}, {'x': 97.69226981465708, 'y': 15.79857003776606, 'z': 0.0}, {'x': 97.69262755708337, 'y': 15.697735417350017, 'z': 0.0}, {'x': 97.69298529950966, 'y': 15.596900796933975, 'z': 0.0}, {'x': 97.69334304193595, 'y': 15.496066176517932, 'z': 0.0}, {'x': 97.69370078436224, 'y': 15.395231556101889, 'z': 0.0}, {'x': 97.69405462812426, 'y': 15.294614273979773, 'z': 0.0}, {'x': 97.6943931290185, 'y': 15.194681781252763, 'z': 0.0}, {'x': 97.69470978859626, 'y': 15.095257603728612, 'z': 0.0}, {'x': 97.69500641316158, 'y': 14.995833364379601, 'z': 0.0}, {'x': 97.69528300270245, 'y': 14.896409067236508, 'z': 0.0}, {'x': 97.69553955720758, 'y': 14.79698471633899, 'z': 0.0}, {'x': 97.69577607666662, 'y': 14.69756031571586, 'z': 0.0}, {'x': 97.69599256106981, 'y': 14.598135869408754, 'z': 0.0}, {'x': 97.69618901040853, 'y': 14.498711381439582, 'z': 0.0}, {'x': 97.6963654246747, 'y': 14.399286855849983, 'z': 0.0}, {'x': 97.69652180386107, 'y': 14.299862296678642, 'z': 0.0}, {'x': 97.69665790871277, 'y': 14.200452872333642, 'z': 0.0}, {'x': 97.6967736016204, 'y': 14.101053989711387, 'z': 0.0}, {'x': 97.69686929465257, 'y': 14.001629353645953, 'z': 0.0}, {'x': 97.69694495258423, 'y': 13.902204700376682, 'z': 0.0}, {'x': 97.69700057541229, 'y': 13.802780033932393, 'z': 0.0}, {'x': 97.69703616313463, 'y': 13.703355358338953, 'z': 0.0}, {'x': 97.69705171574981, 'y': 13.603930677638006, 'z': 0.0}, {'x': 97.69704723325712, 'y': 13.504505995868247, 'z': 0.0}, {'x': 97.69702271565681, 'y': 13.405081317054547, 'z': 0.0}, {'x': 97.69697816294993, 'y': 13.305656645233627, 'z': 0.0}, {'x': 97.69691357513825, 'y': 13.206231984438254, 'z': 0.0}, {'x': 97.69682895222448, 'y': 13.106807338705146, 'z': 0.0}, {'x': 97.69672429421193, 'y': 13.00738271207003, 'z': 0.0}, {'x': 97.69659960110492, 'y': 12.907958108559752, 'z': 0.0}, {'x': 97.69645487290857, 'y': 12.808533532212014, 'z': 0.0}, {'x': 97.6962901096287, 'y': 12.709108987060565, 'z': 0.0}, {'x': 97.69610531127206, 'y': 12.609684477137188, 'z': 0.0}, {'x': 97.6959004778461, 'y': 12.510260006480562, 'z': 0.0}, {'x': 97.6956756093591, 'y': 12.410835579122462, 'z': 0.0}, {'x': 97.69543070582023, 'y': 12.311411199094662, 'z': 0.0}, {'x': 97.69516576723942, 'y': 12.211986870431891, 'z': 0.0}, {'x': 97.69488079362742, 'y': 12.112562597169866, 'z': 0.0}, {'x': 97.69457578499575, 'y': 12.013138383339363, 'z': 0.0}, {'x': 97.69425074135687, 'y': 11.913714232973138, 'z': 0.0}, {'x': 97.69390566272385, 'y': 11.814290150113804, 'z': 0.0}, {'x': 97.69354054911074, 'y': 11.714866138785226, 'z': 0.0}, {'x': 97.69315540053232, 'y': 11.615442203026063, 'z': 0.0}, {'x': 97.69275021700426, 'y': 11.516018346865112, 'z': 0.0}, {'x': 97.69232499854297, 'y': 11.416594574343002, 'z': 0.0}, {'x': 97.69187974516565, 'y': 11.317170889492463, 'z': 0.0}, {'x': 97.69141445689037, 'y': 11.217747296343266, 'z': 0.0}, {'x': 97.69092913373599, 'y': 11.11832379893208, 'z': 0.0}, {'x': 97.69042377572218, 'y': 11.018900401293603, 'z': 0.0}, {'x': 97.68989838286942, 'y': 10.919477107456602, 'z': 0.0}, {'x': 97.68935295519901, 'y': 10.82005392146366, 'z': 0.0}, {'x': 97.6887874927331, 'y': 10.7206308473317, 'z': 0.0}, {'x': 97.68820199549455, 'y': 10.62120788911907, 'z': 0.0}, {'x': 97.68759616436897, 'y': 10.52182103663719, 'z': 0.0}, {'x': 97.6869700467354, 'y': 10.422403239721943, 'z': 0.0}, {'x': 97.68632386445861, 'y': 10.32298065749677, 'z': 0.0}, {'x': 97.68565764751068, 'y': 10.223558207551758, 'z': 0.0}, {'x': 97.68497627626817, 'y': 10.123489447240244, 'z': 0.0}, {'x': 97.68428914167109, 'y': 10.022735872281674, 'z': 0.0}, {'x': 97.68360146646212, 'y': 9.921902962194245, 'z': 0.0}, {'x': 97.68291379125317, 'y': 9.821070052104847, 'z': 0.0}, {'x': 97.68222611604422, 'y': 9.720237142016433, 'z': 0.0}, {'x': 97.68153844083527, 'y': 9.61940423192802, 'z': 0.0}, {'x': 97.68085076562632, 'y': 9.518571321839607, 'z': 0.0}, {'x': 97.68016309041735, 'y': 9.417738411752179, 'z': 0.0}]}\n"
     ]
    }
   ],
   "source": [
    "base_path = r\"C:\\Users\\91747\\Documents\\Academic_NYU\\Emerge-Lab\\gpudrive\\data_utils\\carla\"\n",
    "\n",
    "full_path = os.path.join(base_path, json_file)\n",
    "with open(full_path, \"r\") as f:\n",
    "    xodr_json = json.load(f)\n",
    "\n",
    "print(f\"Total number of road elements: {len(xodr_json['roads'])}\")\n",
    "print(\"\\nFirst road element:\")\n",
    "print(xodr_json[\"roads\"][0])"
   ]
  },
  {
   "cell_type": "code",
   "execution_count": 97,
   "id": "3d2eee23",
   "metadata": {},
   "outputs": [
    {
     "name": "stdout",
     "output_type": "stream",
     "text": [
      "X range: -116.34519969394916 to 111.7342640183027\n",
      "Y range: -142.96397800160645 to 70.48066461278475\n"
     ]
    }
   ],
   "source": [
    "xodr_roads = xodr_json.get(\"roads\", [])\n",
    "# Extract all x and y coordinates from the roads\n",
    "all_x = []\n",
    "all_y = []\n",
    "\n",
    "for road in xodr_roads:\n",
    "    for point in road['geometry']:\n",
    "        all_x.append(point['x'])\n",
    "        all_y.append(point['y'])\n",
    "\n",
    "# Find min and max values\n",
    "min_x = min(all_x)\n",
    "max_x = max(all_x)\n",
    "min_y = min(all_y)\n",
    "max_y = max(all_y)\n",
    "\n",
    "print(f\"X range: {min_x} to {max_x}\")\n",
    "print(f\"Y range: {min_y} to {max_y}\")\n",
    "\n",
    "x_range = [min_x, max_x]\n",
    "y_range = [min_y, max_y]\n"
   ]
  },
  {
   "cell_type": "markdown",
   "id": "e9468f08",
   "metadata": {},
   "source": [
    "Populating The Json"
   ]
  },
  {
   "cell_type": "code",
   "execution_count": null,
   "id": "42104f53",
   "metadata": {},
   "outputs": [],
   "source": [
    "def save_object_to_json(xodr_json, id, x_range, y_range, v_x_range, v_y_range, headings_range, max_positions, object_type=\"vehicle\"):\n",
    "    # Generate random position within the map bounds of size max_positions\n",
    "    positions = []\n",
    "    for _ in range(max_positions):\n",
    "        x = np.random.uniform(x_range[0], x_range[1])\n",
    "        y = np.random.uniform(y_range[0], y_range[1])\n",
    "        positions.append({\"x\": float(x), \"y\": float(y), \"z\": 1.0})\n",
    "    \n",
    "    velocities = []\n",
    "    for _ in range(max_positions):\n",
    "        v_x = np.random.uniform(v_x_range[0], v_x_range[1])\n",
    "        v_y = np.random.uniform(v_y_range[0], v_y_range[1])\n",
    "        velocities.append({\"x\": float(v_x), \"y\": float(v_y)})\n",
    "    \n",
    "    headings = []\n",
    "    for _ in range(max_positions):\n",
    "        heading = np.random.uniform(headings_range[0], headings_range[1])\n",
    "        headings.append(float(heading))\n",
    "    \n",
    "    z = 1.0\n",
    "    \n",
    "    # Generate random heading from the specified range\n",
    "    heading = np.random.uniform(headings_range[0], headings_range[1])\n",
    "    \n",
    "    object_data = {\n",
    "        \"position\": list(positions),\n",
    "        \"width\": 2.0,\n",
    "        \"length\": 4.5,\n",
    "        \"height\": 1.8,\n",
    "        \"id\": id,\n",
    "        \"heading\": list(headings),\n",
    "        \"velocity\": list(velocities),\n",
    "        \"valid\": [True] * max_positions,\n",
    "        \"type\": object_type,\n",
    "        \"mark_as_expert\": False\n",
    "    }\n",
    "    \n",
    "    objects = xodr_json.get(\"objects\", [])\n",
    "    objects.append(object_data)\n",
    "    xodr_json[\"objects\"] = objects\n",
    "    return id + 1"
   ]
  },
  {
   "cell_type": "code",
   "execution_count": null,
   "id": "7e1436f2",
   "metadata": {},
   "outputs": [],
   "source": [
    "number_of_objects = 100\n",
    "max_positions = 91\n",
    "headings_range = [-np.pi, np.pi]\n",
    "v_x_range = [-10.0, 10.0]\n",
    "v_y_range = [-10.0, 10.0]\n",
    "id = 0\n",
    "\n",
    "# Reset the \"objects\" key to an empty list while preserving other fields\n",
    "xodr_json[\"objects\"] = []\n",
    "\n",
    "for _ in range(number_of_objects):\n",
    "    id = save_object_to_json(xodr_json, id, x_range, y_range, v_x_range, v_y_range, headings_range, max_positions)\n",
    "\n",
    "if len(xodr_json[\"objects\"]) != number_of_objects:\n",
    "    print(\"Objects count mismatch: Expected\", number_of_objects, \"but found\", len(xodr_json[\"objects\"]))"
   ]
  },
  {
   "cell_type": "code",
   "execution_count": null,
   "id": "93b5595c",
   "metadata": {},
   "outputs": [],
   "source": [
    "# Save to file\n",
    "with open(full_path, \"w\") as f:\n",
    "    json.dump(xodr_json, f, indent=2)"
   ]
  },
  {
   "cell_type": "code",
   "execution_count": null,
   "id": "cd42c675",
   "metadata": {},
   "outputs": [
    {
     "ename": "RuntimeError",
     "evalue": "No connection could be made because the target machine actively refused it.",
     "output_type": "error",
     "traceback": [
      "\u001b[31m---------------------------------------------------------------------------\u001b[39m",
      "\u001b[31mRuntimeError\u001b[39m                              Traceback (most recent call last)",
      "\u001b[36mCell\u001b[39m\u001b[36m \u001b[39m\u001b[32mIn[7]\u001b[39m\u001b[32m, line 7\u001b[39m\n\u001b[32m      5\u001b[39m client = carla.Client(\u001b[33m'\u001b[39m\u001b[33mlocalhost\u001b[39m\u001b[33m'\u001b[39m, \u001b[32m2000\u001b[39m)\n\u001b[32m      6\u001b[39m \u001b[38;5;66;03m# If you want to ensure you're using Town01 (to match your OpenDRIVE file), uncomment the next line:\u001b[39;00m\n\u001b[32m----> \u001b[39m\u001b[32m7\u001b[39m world = \u001b[43mclient\u001b[49m\u001b[43m.\u001b[49m\u001b[43mload_world\u001b[49m\u001b[43m(\u001b[49m\u001b[33;43m'\u001b[39;49m\u001b[33;43mTown01\u001b[39;49m\u001b[33;43m'\u001b[39;49m\u001b[43m)\u001b[49m\n\u001b[32m      8\u001b[39m \u001b[38;5;66;03m# world = client.get_world()\u001b[39;00m\n\u001b[32m      9\u001b[39m current_map = world.get_map()\n",
      "\u001b[31mRuntimeError\u001b[39m: No connection could be made because the target machine actively refused it."
     ]
    }
   ],
   "source": [
    "import carla\n",
    "import numpy as np\n",
    "\n",
    "# Connect to CARLA\n",
    "client = carla.Client('localhost', 2000)\n",
    "# If you want to ensure you're using Town01 (to match your OpenDRIVE file), uncomment the next line:\n",
    "world = client.load_world('Town01')\n",
    "# world = client.get_world()\n",
    "current_map = world.get_map()\n",
    "print(\"Currently loaded map:\", current_map.name)\n",
    "\n",
    "# Spawn a vehicle\n",
    "blueprint_library = world.get_blueprint_library()\n",
    "vehicle_bp = blueprint_library.filter('vehicle.*')[0]\n",
    "spawn_points = current_map.get_spawn_points()\n",
    "vehicle = world.spawn_actor(vehicle_bp, spawn_points[0])\n",
    "\n",
    "# Enable autopilot\n",
    "vehicle.set_autopilot(True)\n",
    "\n",
    "# Log trajectory\n",
    "trajectory = []\n",
    "for _ in range(1000):  # Log for 1000 steps\n",
    "    world.tick()\n",
    "    transform = vehicle.get_transform()\n",
    "    velocity = vehicle.get_velocity()\n",
    "    \n",
    "    trajectory.append({\n",
    "        \"position\": {\"x\": transform.location.x, \"y\": transform.location.y, \"z\": transform.location.z},\n",
    "        \"heading\": transform.rotation.yaw,\n",
    "        \"velocity\": {\"x\": velocity.x, \"y\": velocity.y}\n",
    "    })\n",
    "\n",
    "# Save trajectory\n",
    "with open(\"expert_trajectory.json\", \"w\") as f:\n",
    "    json.dump(trajectory, f, indent=2)"
   ]
  },
  {
   "cell_type": "code",
   "execution_count": null,
   "id": "8f06e1e6",
   "metadata": {},
   "outputs": [],
   "source": [
    "# try:\n",
    "#     if os.path.exists(odr_file):\n",
    "#         tree = etree.parse(odr_file)\n",
    "#         root = tree.getroot()\n",
    "#         # Find all <road> elements\n",
    "#         road_elements = root.findall('road')\n",
    "#         # Example: create a pyxodr Road object for the first road\n",
    "#         if road_elements:\n",
    "#             print(type(road_elements))\n",
    "#             print(type(road_elements[0]))\n",
    "#             road_obj = Road(road_elements[7])\n",
    "#             print(f'Successfully created pyxodr Road object: {road_obj}')\n",
    "#         else:\n",
    "#             print('No <road> elements found in the file.')\n",
    "#     else:\n",
    "#         print('OpenDRIVE file not found:', odr_file)\n",
    "# except Exception as e:\n",
    "#     print('Error reading OpenDRIVE file or creating Road object:', e)"
   ]
  },
  {
   "cell_type": "code",
   "execution_count": null,
   "id": "ae681d14",
   "metadata": {},
   "outputs": [
    {
     "name": "stdout",
     "output_type": "stream",
     "text": [
      "[Section_0/Road_355]\n"
     ]
    }
   ],
   "source": [
    "print(road_obj.lane_sections)"
   ]
  }
 ],
 "metadata": {
  "kernelspec": {
   "display_name": "Python 3",
   "language": "python",
   "name": "python3"
  },
  "language_info": {
   "codemirror_mode": {
    "name": "ipython",
    "version": 3
   },
   "file_extension": ".py",
   "mimetype": "text/x-python",
   "name": "python",
   "nbconvert_exporter": "python",
   "pygments_lexer": "ipython3",
   "version": "3.12.6"
  }
 },
 "nbformat": 4,
 "nbformat_minor": 5
}
