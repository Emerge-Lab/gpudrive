{
 "cells": [
  {
   "cell_type": "code",
   "execution_count": 1,
   "metadata": {},
   "outputs": [
    {
     "name": "stderr",
     "output_type": "stream",
     "text": [
      "2024-10-07 06:59:14.362487: I tensorflow/core/util/port.cc:153] oneDNN custom operations are on. You may see slightly different numerical results due to floating-point round-off errors from different computation orders. To turn them off, set the environment variable `TF_ENABLE_ONEDNN_OPTS=0`.\n",
      "2024-10-07 06:59:14.369357: E external/local_xla/xla/stream_executor/cuda/cuda_fft.cc:485] Unable to register cuFFT factory: Attempting to register factory for plugin cuFFT when one has already been registered\n",
      "2024-10-07 06:59:14.376683: E external/local_xla/xla/stream_executor/cuda/cuda_dnn.cc:8454] Unable to register cuDNN factory: Attempting to register factory for plugin cuDNN when one has already been registered\n",
      "2024-10-07 06:59:14.378929: E external/local_xla/xla/stream_executor/cuda/cuda_blas.cc:1452] Unable to register cuBLAS factory: Attempting to register factory for plugin cuBLAS when one has already been registered\n",
      "2024-10-07 06:59:14.385525: I tensorflow/core/platform/cpu_feature_guard.cc:210] This TensorFlow binary is optimized to use available CPU instructions in performance-critical operations.\n",
      "To enable the following instructions: AVX2 AVX512F AVX512_VNNI AVX512_BF16 FMA, in other operations, rebuild TensorFlow with the appropriate compiler flags.\n",
      "2024-10-07 06:59:14.863874: W tensorflow/compiler/tf2tensorrt/utils/py_utils.cc:38] TF-TRT Warning: Could not find TensorRT\n"
     ]
    }
   ],
   "source": [
    "%%capture\n",
    "import waymax\n",
    "import numpy as np\n",
    "import mediapy\n",
    "from tqdm import tqdm\n",
    "import dataclasses\n",
    "import pickle\n",
    "import tensorflow as tf\n",
    "\n",
    "from waymax import config as _config\n",
    "from waymax import dataloader\n",
    "from waymax import datatypes\n",
    "from waymax import visualization"
   ]
  },
  {
   "cell_type": "markdown",
   "metadata": {},
   "source": [
    "### Configurations"
   ]
  },
  {
   "cell_type": "code",
   "execution_count": 2,
   "metadata": {},
   "outputs": [],
   "source": [
    "data_path = '/home/emerge/daphne/gpudrive/data/processed/validation_110'"
   ]
  },
  {
   "cell_type": "markdown",
   "metadata": {},
   "source": [
    "### Get Waymo validation files\n",
    "\n",
    "Steps\n",
    "\n",
    "```bash\n",
    "gcloud auth login\n",
    "```\n",
    "\n",
    "```\n",
    "gsutil -m cp -r gs://waymo_open_dataset_motion_v_1_1_0/uncompressed/scenario/validation/ data/raw\n",
    "```\n"
   ]
  },
  {
   "cell_type": "code",
   "execution_count": 3,
   "metadata": {},
   "outputs": [],
   "source": [
    "from pathlib import Path\n",
    "\n",
    "filenames = [\n",
    "    p.name for p in Path(data_path).iterdir()\n",
    "]\n",
    "\n",
    "scenario_ids = [p.split(\"tfrecord-\")[1].split(\".json\")[0] for p in filenames]"
   ]
  },
  {
   "cell_type": "code",
   "execution_count": 4,
   "metadata": {},
   "outputs": [],
   "source": [
    "#scenario_ids"
   ]
  },
  {
   "cell_type": "markdown",
   "metadata": {},
   "source": [
    "### Search through Waymax files, find a match and store the scenario\n",
    "\n",
    "- Using the WOMD validation set from version 1.1.0. See [link](https://github.com/waymo-research/waymax/blob/720f9214a9bf79b3da7926497f0cd0468ca3e630/waymax/config.py#L269)"
   ]
  },
  {
   "cell_type": "code",
   "execution_count": 5,
   "metadata": {},
   "outputs": [],
   "source": [
    "def _preprocess(serialized: bytes) -> dict[str, tf.Tensor]:\n",
    "    womd_features = dataloader.womd_utils.get_features_description(\n",
    "        include_sdc_paths=data_config.include_sdc_paths,\n",
    "        max_num_rg_points=data_config.max_num_rg_points,\n",
    "        num_paths=data_config.num_paths,\n",
    "        num_points_per_path=data_config.num_points_per_path,\n",
    "    )\n",
    "    womd_features['scenario/id'] = tf.io.FixedLenFeature([1], tf.string)\n",
    "\n",
    "    deserialized = tf.io.parse_example(serialized, womd_features)\n",
    "    parsed_id = deserialized.pop('scenario/id')\n",
    "    deserialized['scenario/id'] = tf.io.decode_raw(parsed_id, tf.uint8)\n",
    "\n",
    "    return dataloader.preprocess_womd_example(\n",
    "        deserialized,\n",
    "        aggregate_timesteps=data_config.aggregate_timesteps,\n",
    "        max_num_objects=data_config.max_num_objects,\n",
    "    )\n",
    "\n",
    "def _postprocess(example: dict[str, tf.Tensor]):\n",
    "    scenario = dataloader.simulator_state_from_womd_dict(example)\n",
    "    scenario_id = example['scenario/id']\n",
    "    return scenario_id, scenario"
   ]
  },
  {
   "cell_type": "code",
   "execution_count": 6,
   "metadata": {},
   "outputs": [
    {
     "name": "stderr",
     "output_type": "stream",
     "text": [
      "WARNING: All log messages before absl::InitializeLog() is called are written to STDERR\n",
      "I0000 00:00:1728297964.276972 1600125 cuda_executor.cc:1015] successful NUMA node read from SysFS had negative value (-1), but there must be at least one NUMA node, so returning NUMA node zero. See more at https://github.com/torvalds/linux/blob/v6.0/Documentation/ABI/testing/sysfs-bus-pci#L344-L355\n",
      "2024-10-07 06:46:04.294741: W tensorflow/core/common_runtime/gpu/gpu_device.cc:2343] Cannot dlopen some GPU libraries. Please make sure the missing libraries mentioned above are installed properly if you would like to use GPU. Follow the guide at https://www.tensorflow.org/install/gpu for how to download and setup the required libraries for your platform.\n",
      "Skipping registering GPU devices...\n",
      "An NVIDIA GPU may be present on this machine, but a CUDA-enabled jaxlib is not installed. Falling back to cpu.\n"
     ]
    }
   ],
   "source": [
    "data_config = dataclasses.replace(\n",
    "    _config.WOD_1_1_0_VALIDATION, \n",
    "    max_num_objects=32\n",
    ")\n",
    "\n",
    "data_iter = dataloader.simulator_state_generator(config=data_config)\n",
    "\n",
    "# Caution: This takes about a minute\n",
    "scenario = next(data_iter)"
   ]
  },
  {
   "cell_type": "code",
   "execution_count": 7,
   "metadata": {},
   "outputs": [],
   "source": [
    "# Get a single scenario\n",
    "scene_id_iter = dataloader.get_data_generator(\n",
    "    data_config, _preprocess, _postprocess\n",
    ")"
   ]
  },
  {
   "cell_type": "code",
   "execution_count": 8,
   "metadata": {},
   "outputs": [
    {
     "name": "stdout",
     "output_type": "stream",
     "text": [
      "Found scenario: ab2a72c63f8fd589! Saving to file...\n"
     ]
    }
   ],
   "source": [
    "# Get the unique ID string for a scenario\n",
    "for scenario_id, scenario in scene_id_iter:\n",
    "    # Decode bytes and return the scenario ID\n",
    "    scenario_id = scenario_id.tobytes().decode('utf-8')\n",
    "\n",
    "    if scenario_id in scenario_ids:\n",
    "        print(f\"Found scenario: {scenario_id}! Saving to file...\")\n",
    "        scenario_path = f'waymax_scenario_{scenario_id}.pkl'\n",
    "        with open(scenario_path, 'wb') as f:    \n",
    "            pickle.dump(scenario, f)\n",
    "        break\n",
    "    \n",
    "else: \n",
    "    print('Done')"
   ]
  },
  {
   "cell_type": "code",
   "execution_count": 9,
   "metadata": {},
   "outputs": [
    {
     "data": {
      "text/plain": [
       "'ab2a72c63f8fd589'"
      ]
     },
     "execution_count": 9,
     "metadata": {},
     "output_type": "execute_result"
    }
   ],
   "source": [
    "scenario_id"
   ]
  },
  {
   "cell_type": "code",
   "execution_count": 10,
   "metadata": {},
   "outputs": [
    {
     "data": {
      "text/plain": [
       "True"
      ]
     },
     "execution_count": 10,
     "metadata": {},
     "output_type": "execute_result"
    }
   ],
   "source": [
    "'ab2a72c63f8fd589' in scenario_ids"
   ]
  },
  {
   "cell_type": "code",
   "execution_count": null,
   "metadata": {},
   "outputs": [],
   "source": []
  }
 ],
 "metadata": {
  "kernelspec": {
   "display_name": "gdrive",
   "language": "python",
   "name": "python3"
  },
  "language_info": {
   "codemirror_mode": {
    "name": "ipython",
    "version": 3
   },
   "file_extension": ".py",
   "mimetype": "text/x-python",
   "name": "python",
   "nbconvert_exporter": "python",
   "pygments_lexer": "ipython3",
   "version": "3.10.12"
  }
 },
 "nbformat": 4,
 "nbformat_minor": 2
}
