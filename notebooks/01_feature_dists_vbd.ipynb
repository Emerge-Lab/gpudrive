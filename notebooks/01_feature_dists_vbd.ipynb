{
 "cells": [
  {
   "cell_type": "code",
   "execution_count": 60,
   "metadata": {},
   "outputs": [],
   "source": [
    "import os\n",
    "import matplotlib.pyplot as plt\n",
    "import seaborn as sns\n",
    "import torch\n",
    "import pickle\n",
    "import warnings\n",
    "from pathlib import Path\n",
    "import jax.numpy as jnp\n",
    "import pandas as pd\n",
    "\n",
    "# GPUDrive dependencies\n",
    "working_dir = Path.cwd()\n",
    "while working_dir.name != 'gpudrive':\n",
    "    working_dir = working_dir.parent\n",
    "    if working_dir == Path.home():\n",
    "        raise FileNotFoundError(\"Base directory 'gpudrive' not found\")\n",
    "os.chdir(working_dir)\n",
    "from pygpudrive.env.config import EnvConfig, RenderConfig, SceneConfig, SelectionDiscipline\n",
    "from pygpudrive.env.env_torch import GPUDriveTorchEnv\n",
    "\n",
    "\n",
    "sns.set(\"notebook\", font_scale=1.05, rc={\"figure.figsize\": (7, 2)})\n",
    "sns.set_style(\"ticks\", rc={\"figure.facecolor\": \"none\", \"axes.facecolor\": \"none\"})\n",
    "%config InlineBackend.figure_format = 'png'\n",
    "plt.rcParams['figure.dpi'] = 120\n",
    "warnings.filterwarnings(\"ignore\")"
   ]
  },
  {
   "cell_type": "markdown",
   "metadata": {},
   "source": [
    "### Configurations"
   ]
  },
  {
   "cell_type": "code",
   "execution_count": 61,
   "metadata": {},
   "outputs": [],
   "source": [
    "BASE_DIR = \"/home/emerge/daphne/gpudrive\"\n",
    "SCENARIO_ID = \"ab2a72c63f8fd589\""
   ]
  },
  {
   "cell_type": "markdown",
   "metadata": {},
   "source": [
    "### Load debug scenario and saved samples \n",
    "\n",
    "- Unprocessed waymax scenario object \n",
    "- Processed VBD inputs (waymax)\n",
    "- Processed VBD inputs (gpudrive)"
   ]
  },
  {
   "cell_type": "code",
   "execution_count": 62,
   "metadata": {},
   "outputs": [],
   "source": [
    "with open(f'{BASE_DIR}/data/processed/waymax/scenario_{SCENARIO_ID}.pkl', 'rb') as f:\n",
    "    scenario = pickle.load(f);\n",
    "    \n",
    "with open(f\"{BASE_DIR}/waymax_vbd_sample_ab2a72c63f8fd589.pkl\", \"rb\") as f:\n",
    "    waymax_vbd_data = pickle.load(f)\n",
    "\n",
    "with open(f\"{BASE_DIR}/gpudrive_vbd_sample_ab2a72c63f8fd589.pkl\", \"rb\") as f:\n",
    "    gpudrive_vbd_data = pickle.load(f)"
   ]
  },
  {
   "cell_type": "markdown",
   "metadata": {},
   "source": [
    "### Initialize simulator"
   ]
  },
  {
   "cell_type": "code",
   "execution_count": 63,
   "metadata": {},
   "outputs": [
    {
     "name": "stdout",
     "output_type": "stream",
     "text": [
      "\n",
      "--- Ratio unique scenes / number of worls =         1 / 1 ---\n",
      "\n"
     ]
    }
   ],
   "source": [
    "env_config = EnvConfig(\n",
    "    init_steps=10, # Warmup period\n",
    "    enable_vbd=True, # Use VBD\n",
    "    dynamics_model=\"state\", # Use state-based dynamics model\n",
    "    dist_to_goal_threshold=1e-5, # Trick to make sure the agents don't disappear when they reach the goal\n",
    "    collision_behavior=\"ignore\", # Ignore collisions\n",
    ")\n",
    "\n",
    "# Make env\n",
    "gpudrive_env = GPUDriveTorchEnv(\n",
    "    config=env_config,\n",
    "    scene_config=SceneConfig(path=f\"{BASE_DIR}/data/debug\", num_scenes=1),\n",
    "    render_config=RenderConfig(draw_obj_idx=True, render_init=True, resolution=(650, 650)),\n",
    "    max_cont_agents=32, # Maximum number of agents to control per scene\n",
    "    device=\"cpu\",\n",
    ")"
   ]
  },
  {
   "cell_type": "markdown",
   "metadata": {},
   "source": [
    "### 1. **Polylines** \n",
    "\n",
    "- Observation: VBD trajectories in gpudrive driving through road edges. Why?\n",
    "- polyline feature: x, y, heading, traffic_light, type"
   ]
  },
  {
   "cell_type": "markdown",
   "metadata": {},
   "source": [
    "#### Inspect **unprocessed waymax roadpoints**"
   ]
  },
  {
   "cell_type": "code",
   "execution_count": 64,
   "metadata": {},
   "outputs": [
    {
     "data": {
      "text/plain": [
       "(20000,)"
      ]
     },
     "execution_count": 64,
     "metadata": {},
     "output_type": "execute_result"
    }
   ],
   "source": [
    "scenario.roadgraph_points.shape  # max roadpoints"
   ]
  },
  {
   "cell_type": "code",
   "execution_count": 65,
   "metadata": {},
   "outputs": [
    {
     "data": {
      "text/plain": [
       "(20000, 3)"
      ]
     },
     "execution_count": 65,
     "metadata": {},
     "output_type": "execute_result"
    }
   ],
   "source": [
    "scenario.roadgraph_points.xyz.shape "
   ]
  },
  {
   "cell_type": "code",
   "execution_count": 86,
   "metadata": {},
   "outputs": [
    {
     "data": {
      "text/plain": [
       "(20000, 2)"
      ]
     },
     "execution_count": 86,
     "metadata": {},
     "output_type": "execute_result"
    }
   ],
   "source": [
    "scenario.roadgraph_points.dir_xy.shape # yaw_xy"
   ]
  },
  {
   "cell_type": "code",
   "execution_count": 87,
   "metadata": {},
   "outputs": [
    {
     "data": {
      "text/plain": [
       "(20000,)"
      ]
     },
     "execution_count": 87,
     "metadata": {},
     "output_type": "execute_result"
    }
   ],
   "source": [
    "scenario.roadgraph_points.types.shape # road types"
   ]
  },
  {
   "cell_type": "markdown",
   "metadata": {},
   "source": [
    "- Meaning of [TL states](https://github.com/waymo-research/waymax/blob/720f9214a9bf79b3da7926497f0cd0468ca3e630/waymax/datatypes/traffic_lights.py#L26)"
   ]
  },
  {
   "cell_type": "code",
   "execution_count": 68,
   "metadata": {},
   "outputs": [
    {
     "data": {
      "text/plain": [
       "Array([-1], dtype=int32)"
      ]
     },
     "execution_count": 68,
     "metadata": {},
     "output_type": "execute_result"
    }
   ],
   "source": [
    "jnp.unique(scenario.log_traffic_light.state) # -1 means ??"
   ]
  },
  {
   "cell_type": "code",
   "execution_count": 69,
   "metadata": {},
   "outputs": [
    {
     "data": {
      "text/plain": [
       "(20000,)"
      ]
     },
     "execution_count": 69,
     "metadata": {},
     "output_type": "execute_result"
    }
   ],
   "source": [
    "scenario.roadgraph_points.types.shape"
   ]
  },
  {
   "cell_type": "code",
   "execution_count": 88,
   "metadata": {},
   "outputs": [
    {
     "data": {
      "text/html": [
       "<div>\n",
       "<style scoped>\n",
       "    .dataframe tbody tr th:only-of-type {\n",
       "        vertical-align: middle;\n",
       "    }\n",
       "\n",
       "    .dataframe tbody tr th {\n",
       "        vertical-align: top;\n",
       "    }\n",
       "\n",
       "    .dataframe thead th {\n",
       "        text-align: right;\n",
       "    }\n",
       "</style>\n",
       "<table border=\"1\" class=\"dataframe\">\n",
       "  <thead>\n",
       "    <tr style=\"text-align: right;\">\n",
       "      <th></th>\n",
       "      <th>x</th>\n",
       "      <th>y</th>\n",
       "      <th>yaw_x</th>\n",
       "      <th>yaw_y</th>\n",
       "      <th>type</th>\n",
       "      <th>simulator</th>\n",
       "    </tr>\n",
       "  </thead>\n",
       "  <tbody>\n",
       "    <tr>\n",
       "      <th>0</th>\n",
       "      <td>4259.661621</td>\n",
       "      <td>11798.491211</td>\n",
       "      <td>0.999987</td>\n",
       "      <td>0.004590</td>\n",
       "      <td>15</td>\n",
       "      <td>waymax</td>\n",
       "    </tr>\n",
       "    <tr>\n",
       "      <th>1</th>\n",
       "      <td>4260.161133</td>\n",
       "      <td>11798.493164</td>\n",
       "      <td>0.999988</td>\n",
       "      <td>0.004493</td>\n",
       "      <td>15</td>\n",
       "      <td>waymax</td>\n",
       "    </tr>\n",
       "    <tr>\n",
       "      <th>2</th>\n",
       "      <td>4260.660645</td>\n",
       "      <td>11798.495117</td>\n",
       "      <td>0.999988</td>\n",
       "      <td>0.004396</td>\n",
       "      <td>15</td>\n",
       "      <td>waymax</td>\n",
       "    </tr>\n",
       "    <tr>\n",
       "      <th>3</th>\n",
       "      <td>4261.159668</td>\n",
       "      <td>11798.498047</td>\n",
       "      <td>0.999989</td>\n",
       "      <td>0.004300</td>\n",
       "      <td>15</td>\n",
       "      <td>waymax</td>\n",
       "    </tr>\n",
       "    <tr>\n",
       "      <th>4</th>\n",
       "      <td>4261.659180</td>\n",
       "      <td>11798.500000</td>\n",
       "      <td>0.999989</td>\n",
       "      <td>0.004203</td>\n",
       "      <td>15</td>\n",
       "      <td>waymax</td>\n",
       "    </tr>\n",
       "  </tbody>\n",
       "</table>\n",
       "</div>"
      ],
      "text/plain": [
       "             x             y     yaw_x     yaw_y  type simulator\n",
       "0  4259.661621  11798.491211  0.999987  0.004590    15    waymax\n",
       "1  4260.161133  11798.493164  0.999988  0.004493    15    waymax\n",
       "2  4260.660645  11798.495117  0.999988  0.004396    15    waymax\n",
       "3  4261.159668  11798.498047  0.999989  0.004300    15    waymax\n",
       "4  4261.659180  11798.500000  0.999989  0.004203    15    waymax"
      ]
     },
     "execution_count": 88,
     "metadata": {},
     "output_type": "execute_result"
    }
   ],
   "source": [
    "df_polylines_waymax = pd.DataFrame({\n",
    "    'x': scenario.roadgraph_points.x,\n",
    "    'y': scenario.roadgraph_points.y,\n",
    "    'yaw_x': scenario.roadgraph_points.dir_x,\n",
    "    'yaw_y': scenario.roadgraph_points.dir_y,\n",
    "    'type': scenario.roadgraph_points.types,\n",
    "    #'tl_state': scenario.log_traffic_light.state[:, 0],\n",
    "    'simulator': 'waymax'\n",
    "})\n",
    "\n",
    "df_polylines_waymax.head()"
   ]
  },
  {
   "cell_type": "code",
   "execution_count": 98,
   "metadata": {},
   "outputs": [
    {
     "data": {
      "text/plain": [
       "torch.Size([32, 256, 7])"
      ]
     },
     "execution_count": 98,
     "metadata": {},
     "output_type": "execute_result"
    }
   ],
   "source": [
    "# Note: In contrast to Waymax, these have already been filtered for proximity to vehicles\n",
    "gpudrive_global_roadgraph = gpudrive_env.sim.agent_roadmap_tensor().to_torch().squeeze(0)\n",
    "\n",
    "gpudrive_global_roadgraph.shape # agents, k_top_roadpoints, features"
   ]
  },
  {
   "cell_type": "code",
   "execution_count": 99,
   "metadata": {},
   "outputs": [],
   "source": [
    "df_polylines_gpudrive = pd.DataFrame({\n",
    "    'x': gpudrive_global_roadgraph[:, :, 0].flatten(),\n",
    "    'y': gpudrive_global_roadgraph[:, :, 1].flatten(),\n",
    "    'yaw_x': gpudrive_global_roadgraph[:, :, 3].flatten(),\n",
    "    'yaw_y': gpudrive_global_roadgraph[:, :, 4].flatten(), # Placeholder\n",
    "    'type': gpudrive_global_roadgraph[:, :, 6].flatten(),\n",
    "    'simulator': 'gpudrive'\n",
    "}) "
   ]
  },
  {
   "cell_type": "code",
   "execution_count": 93,
   "metadata": {},
   "outputs": [],
   "source": [
    "df = pd.concat([df_polylines_gpudrive, df_polylines_waymax])"
   ]
  },
  {
   "cell_type": "code",
   "execution_count": 97,
   "metadata": {},
   "outputs": [
    {
     "data": {
      "text/plain": [
       "<Axes: xlabel='simulator', ylabel='x'>"
      ]
     },
     "execution_count": 97,
     "metadata": {},
     "output_type": "execute_result"
    },
    {
     "data": {
      "image/png": "[encoded data removed]",
      "text/plain": [
       "<Figure size 1680x480 with 3 Axes>"
      ]
     },
     "metadata": {
      "needs_background": "light"
     },
     "output_type": "display_data"
    }
   ],
   "source": [
    "fig, axs = plt.subplots(1, 3, figsize=(14, 4))\n",
    "\n",
    "sns.boxplot(df, x='simulator', y='x', label='x', ax=axs[0], legend=True)\n",
    "# axs[1].plot(scenario.roadgraph_points.y, '.', label='y')\n",
    "# axs[2].plot(scenario.roadgraph_points.z, '.', label='z')\n",
    "\n",
    "# plt.tight_layout()"
   ]
  },
  {
   "cell_type": "code",
   "execution_count": null,
   "metadata": {},
   "outputs": [],
   "source": [
    "fig, axs = plt.subplots(1, 3, figsize=(14, 4))\n",
    "\n",
    "axs[0].plot(scenario.roadgraph_points.dir_x, '.', label='x')\n",
    "axs[1].plot(scenario.roadgraph_points.dir_y, '.', label='y')\n",
    "axs[2].plot(scenario.roadgraph_points.dir, '.', label='z')\n",
    "\n",
    "plt.tight_layout()"
   ]
  }
 ],
 "metadata": {
  "kernelspec": {
   "display_name": "gdrive",
   "language": "python",
   "name": "python3"
  },
  "language_info": {
   "codemirror_mode": {
    "name": "ipython",
    "version": 3
   },
   "file_extension": ".py",
   "mimetype": "text/x-python",
   "name": "python",
   "nbconvert_exporter": "python",
   "pygments_lexer": "ipython3",
   "version": "3.10.12"
  }
 },
 "nbformat": 4,
 "nbformat_minor": 2
}
