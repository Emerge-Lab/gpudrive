{
 "cells": [
  {
   "cell_type": "code",
   "execution_count": 1,
   "metadata": {},
   "outputs": [
    {
     "name": "stderr",
     "output_type": "stream",
     "text": [
      "2024-10-03 14:37:15.480744: I tensorflow/core/util/port.cc:113] oneDNN custom operations are on. You may see slightly different numerical results due to floating-point round-off errors from different computation orders. To turn them off, set the environment variable `TF_ENABLE_ONEDNN_OPTS=0`.\n",
      "2024-10-03 14:37:15.503440: I tensorflow/core/platform/cpu_feature_guard.cc:210] This TensorFlow binary is optimized to use available CPU instructions in performance-critical operations.\n",
      "To enable the following instructions: AVX2 AVX512F AVX512_VNNI AVX512_BF16 FMA, in other operations, rebuild TensorFlow with the appropriate compiler flags.\n",
      "2024-10-03 14:37:15.873310: W tensorflow/compiler/tf2tensorrt/utils/py_utils.cc:38] TF-TRT Warning: Could not find TensorRT\n"
     ]
    }
   ],
   "source": [
    "%%capture\n",
    "import waymax\n",
    "import numpy as np\n",
    "import mediapy\n",
    "from tqdm import tqdm\n",
    "import dataclasses\n",
    "\n",
    "import tensorflow as tf\n",
    "\n",
    "from waymax import config as _config\n",
    "from waymax import dataloader\n",
    "from waymax import datatypes\n",
    "from waymax import visualization"
   ]
  },
  {
   "cell_type": "markdown",
   "metadata": {},
   "source": [
    "### Configurations"
   ]
  },
  {
   "cell_type": "code",
   "execution_count": 2,
   "metadata": {},
   "outputs": [],
   "source": [
    "max_controlled_objects = 32"
   ]
  },
  {
   "cell_type": "markdown",
   "metadata": {},
   "source": [
    "Taking files from: \n",
    "```\n",
    "'gs://waymo_open_dataset_motion_v_1_1_0/uncompressed/tf_example/validation/validation_tfexample.tfrecord@150'\n",
    "```\n",
    "[link](https://github.com/waymo-research/waymax/blob/720f9214a9bf79b3da7926497f0cd0468ca3e630/waymax/config.py#L269)"
   ]
  },
  {
   "cell_type": "code",
   "execution_count": 3,
   "metadata": {},
   "outputs": [],
   "source": [
    "data_config = dataclasses.replace(\n",
    "    _config.WOD_1_1_0_VALIDATION, \n",
    "    max_num_objects=32\n",
    ")\n",
    "\n",
    "data_iter = dataloader.simulator_state_generator(config=data_config)"
   ]
  },
  {
   "cell_type": "code",
   "execution_count": 4,
   "metadata": {},
   "outputs": [
    {
     "name": "stderr",
     "output_type": "stream",
     "text": [
      "2024-10-03 14:37:17.016835: I external/local_xla/xla/stream_executor/cuda/cuda_executor.cc:998] successful NUMA node read from SysFS had negative value (-1), but there must be at least one NUMA node, so returning NUMA node zero. See more at https://github.com/torvalds/linux/blob/v6.0/Documentation/ABI/testing/sysfs-bus-pci#L344-L355\n",
      "2024-10-03 14:37:17.034655: W tensorflow/core/common_runtime/gpu/gpu_device.cc:2251] Cannot dlopen some GPU libraries. Please make sure the missing libraries mentioned above are installed properly if you would like to use GPU. Follow the guide at https://www.tensorflow.org/install/gpu for how to download and setup the required libraries for your platform.\n",
      "Skipping registering GPU devices...\n",
      "2024-10-03 14:38:34.933012: W external/xla/xla/service/gpu/nvptx_compiler.cc:760] The NVIDIA driver's CUDA version is 12.2 which is older than the ptxas CUDA version (12.3.107). Because the driver is older than the ptxas version, XLA is disabling parallel compilation, which may slow down compilation. You should update your NVIDIA driver or use the NVIDIA-provided CUDA forward compatibility packages.\n"
     ]
    }
   ],
   "source": [
    "# Caution: This takes about a minute\n",
    "scenario = next(data_iter)"
   ]
  },
  {
   "cell_type": "markdown",
   "metadata": {},
   "source": [
    "### Processing codde"
   ]
  },
  {
   "cell_type": "code",
   "execution_count": 8,
   "metadata": {},
   "outputs": [],
   "source": [
    "# Write a custom dataloader that loads scenario IDs.\n",
    "def _preprocess(serialized: bytes) -> dict[str, tf.Tensor]:\n",
    "    womd_features = dataloader.womd_utils.get_features_description(\n",
    "        include_sdc_paths=data_config.include_sdc_paths,\n",
    "        max_num_rg_points=data_config.max_num_rg_points,\n",
    "        num_paths=data_config.num_paths,\n",
    "        num_points_per_path=data_config.num_points_per_path,\n",
    "    )\n",
    "    womd_features['scenario/id'] = tf.io.FixedLenFeature([1], tf.string)\n",
    "\n",
    "    deserialized = tf.io.parse_example(serialized, womd_features)\n",
    "    parsed_id = deserialized.pop('scenario/id')\n",
    "    deserialized['scenario/id'] = tf.io.decode_raw(parsed_id, tf.uint8)\n",
    "\n",
    "    return dataloader.preprocess_womd_example(\n",
    "        deserialized,\n",
    "        aggregate_timesteps=data_config.aggregate_timesteps,\n",
    "        max_num_objects=data_config.max_num_objects,\n",
    "    )\n",
    "\n",
    "def _postprocess(example: dict[str, tf.Tensor]):\n",
    "    scenario = dataloader.simulator_state_from_womd_dict(example)\n",
    "    scenario_id = example['scenario/id']\n",
    "    return scenario_id, scenario\n",
    "\n",
    "# Get a single scenario\n",
    "data_iter = dataloader.get_data_generator(\n",
    "    data_config, _preprocess, _postprocess\n",
    ")"
   ]
  },
  {
   "cell_type": "markdown",
   "metadata": {},
   "source": [
    "Link: https://waymo.com/open/data/motion/tfexample"
   ]
  },
  {
   "cell_type": "code",
   "execution_count": 10,
   "metadata": {},
   "outputs": [
    {
     "name": "stdout",
     "output_type": "stream",
     "text": [
      "Scenario ID: 20ee2d5990baa725\n"
     ]
    }
   ],
   "source": [
    "# Get the unique ID string for a scenario\n",
    "for scenario_id, _ in data_iter:\n",
    "    # Decode bytes and return the scenario ID\n",
    "    scenario_id = scenario_id.tobytes().decode('utf-8')\n",
    "    print(\"Scenario ID:\", scenario_id)  # Print the scenario ID for the first scenario\n",
    "    break  \n"
   ]
  },
  {
   "cell_type": "markdown",
   "metadata": {},
   "source": [
    "### Scenario id is not in the metadata"
   ]
  },
  {
   "cell_type": "code",
   "execution_count": 11,
   "metadata": {},
   "outputs": [
    {
     "data": {
      "text/plain": [
       "['__abstractmethods__',\n",
       " '__annotations__',\n",
       " '__class__',\n",
       " '__class_getitem__',\n",
       " '__contains__',\n",
       " '__dataclass_fields__',\n",
       " '__dataclass_params__',\n",
       " '__delattr__',\n",
       " '__dict__',\n",
       " '__dir__',\n",
       " '__doc__',\n",
       " '__eq__',\n",
       " '__format__',\n",
       " '__ge__',\n",
       " '__getattribute__',\n",
       " '__getitem__',\n",
       " '__getstate__',\n",
       " '__gt__',\n",
       " '__hash__',\n",
       " '__init__',\n",
       " '__init_subclass__',\n",
       " '__iter__',\n",
       " '__le__',\n",
       " '__len__',\n",
       " '__lt__',\n",
       " '__match_args__',\n",
       " '__module__',\n",
       " '__ne__',\n",
       " '__new__',\n",
       " '__reduce__',\n",
       " '__reduce_ex__',\n",
       " '__repr__',\n",
       " '__reversed__',\n",
       " '__setattr__',\n",
       " '__setstate__',\n",
       " '__sizeof__',\n",
       " '__slots__',\n",
       " '__str__',\n",
       " '__subclasshook__',\n",
       " '__weakref__',\n",
       " '_abc_impl',\n",
       " 'from_tuple',\n",
       " 'get',\n",
       " 'ids',\n",
       " 'is_controlled',\n",
       " 'is_modeled',\n",
       " 'is_sdc',\n",
       " 'is_valid',\n",
       " 'items',\n",
       " 'keys',\n",
       " 'num_objects',\n",
       " 'object_types',\n",
       " 'objects_of_interest',\n",
       " 'replace',\n",
       " 'shape',\n",
       " 'to_tuple',\n",
       " 'validate',\n",
       " 'values']"
      ]
     },
     "execution_count": 11,
     "metadata": {},
     "output_type": "execute_result"
    }
   ],
   "source": [
    "dir(scenario.object_metadata)"
   ]
  }
 ],
 "metadata": {
  "kernelspec": {
   "display_name": "gdrive",
   "language": "python",
   "name": "python3"
  },
  "language_info": {
   "codemirror_mode": {
    "name": "ipython",
    "version": 3
   },
   "file_extension": ".py",
   "mimetype": "text/x-python",
   "name": "python",
   "nbconvert_exporter": "python",
   "pygments_lexer": "ipython3",
   "version": "3.11.5"
  }
 },
 "nbformat": 4,
 "nbformat_minor": 2
}
