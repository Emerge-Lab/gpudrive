{
 "cells": [
  {
   "cell_type": "code",
   "execution_count": 1,
   "metadata": {},
   "outputs": [],
   "source": [
    "import os\n",
    "import torch\n",
    "from pathlib import Path\n",
    "import mediapy\n",
    "import matplotlib\n",
    "from typing import Tuple, Optional, List, Dict, Any, Union\n",
    "# Set working directory to the base directory 'gpudrive'\n",
    "working_dir = Path.cwd()\n",
    "while working_dir.name != 'gpudrive':\n",
    "    working_dir = working_dir.parent\n",
    "    if working_dir == Path.home():\n",
    "        raise FileNotFoundError(\"Base directory 'gpudrive' not found\")\n",
    "os.chdir(working_dir)\n",
    "\n",
    "from pygpudrive.env.config import EnvConfig, RenderConfig, SceneConfig\n",
    "from pygpudrive.env.env_torch import GPUDriveTorchEnv"
   ]
  },
  {
   "cell_type": "code",
   "execution_count": 2,
   "metadata": {},
   "outputs": [],
   "source": [
    "DYNAMICS_MODEL = \"delta_local\" # \"delta_local\" / \"state\" / \"classic\"\n",
    "DATA_PATH = \"data/processed/examples\" # Your data path\n",
    "MAX_NUM_OBJECTS = 32\n",
    "NUM_ENVS = 1\n",
    "\n",
    "# Configs\n",
    "render_config = RenderConfig(draw_obj_idx=True)\n",
    "scene_config = SceneConfig(path=DATA_PATH, num_scenes=NUM_ENVS)\n",
    "env_config = EnvConfig(dynamics_model=DYNAMICS_MODEL)"
   ]
  },
  {
   "cell_type": "code",
   "execution_count": 5,
   "metadata": {},
   "outputs": [],
   "source": [
    "env_config.polyline_reduction_threshold = 1.0"
   ]
  },
  {
   "cell_type": "code",
   "execution_count": 6,
   "metadata": {},
   "outputs": [
    {
     "name": "stdout",
     "output_type": "stream",
     "text": [
      "\n",
      "--- Ratio unique scenes / number of worls = 1 / 1 ---\n",
      "\n"
     ]
    }
   ],
   "source": [
    "env = GPUDriveTorchEnv(\n",
    "    config=env_config,\n",
    "    scene_config=scene_config,\n",
    "    max_cont_agents=MAX_NUM_OBJECTS,\n",
    "    device=\"cpu\",\n",
    "    render_config=render_config,\n",
    "    action_type=\"continuous\" # \"continuous\" or \"discrete\"\n",
    ")"
   ]
  },
  {
   "cell_type": "code",
   "execution_count": 7,
   "metadata": {},
   "outputs": [
    {
     "data": {
      "text/plain": [
       "torch.Size([1, 32, 91, 3])"
      ]
     },
     "execution_count": 7,
     "metadata": {},
     "output_type": "execute_result"
    }
   ],
   "source": [
    "expert_actions, _, _, _ = env.get_expert_actions()\n",
    "\n",
    "expert_actions.shape\n"
   ]
  },
  {
   "cell_type": "code",
   "execution_count": 8,
   "metadata": {},
   "outputs": [
    {
     "data": {
      "text/plain": [
       "LocalRoadGraphPoints()"
      ]
     },
     "execution_count": 8,
     "metadata": {},
     "output_type": "execute_result"
    }
   ],
   "source": [
    "from pygpudrive.datatypes.roadgraph import LocalRoadGraphPoints\n",
    "\n",
    "local_roadgraph = LocalRoadGraphPoints.from_tensor(\n",
    "    local_roadgraph_tensor=env.sim.agent_roadmap_tensor(),\n",
    "    backend=\"torch\",\n",
    "    device=\"cpu\"\n",
    ")\n",
    "\n",
    "local_roadgraph"
   ]
  },
  {
   "cell_type": "code",
   "execution_count": 9,
   "metadata": {},
   "outputs": [
    {
     "data": {
      "text/plain": [
       "torch.Size([1, 32, 128])"
      ]
     },
     "execution_count": 9,
     "metadata": {},
     "output_type": "execute_result"
    }
   ],
   "source": [
    "local_roadgraph.type.shape"
   ]
  },
  {
   "cell_type": "code",
   "execution_count": 10,
   "metadata": {},
   "outputs": [
    {
     "data": {
      "text/plain": [
       "(0, 1)"
      ]
     },
     "execution_count": 10,
     "metadata": {},
     "output_type": "execute_result"
    }
   ],
   "source": [
    "import gpudrive\n",
    "\n",
    "int(gpudrive.EntityType._None), int(gpudrive.EntityType.RoadEdge), "
   ]
  },
  {
   "cell_type": "code",
   "execution_count": 11,
   "metadata": {},
   "outputs": [
    {
     "data": {
      "text/plain": [
       "torch.Size([1, 128])"
      ]
     },
     "execution_count": 11,
     "metadata": {},
     "output_type": "execute_result"
    }
   ],
   "source": [
    "local_roadgraph.type[:, 0, :].shape"
   ]
  },
  {
   "cell_type": "code",
   "execution_count": 12,
   "metadata": {},
   "outputs": [
    {
     "data": {
      "text/plain": [
       "(torch.Size([1, 128]), tensor(0.0469))"
      ]
     },
     "execution_count": 12,
     "metadata": {},
     "output_type": "execute_result"
    }
   ],
   "source": [
    "local_roadgraph.type[:, 0, :].shape, (local_roadgraph.type[:, 0, :] == 0).sum()/local_roadgraph.type[:, 0, :].numel()"
   ]
  },
  {
   "cell_type": "code",
   "execution_count": 13,
   "metadata": {},
   "outputs": [
    {
     "data": {
      "text/plain": [
       "tensor([[1, 1, 1, 1, 1, 1, 1, 1, 1, 1, 1, 1, 1, 1, 1, 2, 2, 2, 2, 1, 1, 1, 1, 1,\n",
       "         1, 1, 1, 1, 1, 1, 1, 1, 1, 1, 1, 1, 1, 1, 1, 1, 1, 1, 1, 1, 1, 1, 1, 1,\n",
       "         1, 1, 1, 1, 1, 1, 1, 1, 1, 1, 1, 1, 1, 1, 1, 1, 1, 1, 1, 1, 3, 3, 3, 3,\n",
       "         3, 3, 3, 3, 3, 3, 3, 3, 3, 3, 3, 3, 3, 3, 3, 3, 3, 3, 3, 3, 3, 3, 3, 3,\n",
       "         3, 3, 3, 3, 3, 3, 3, 3, 3, 3, 3, 3, 3, 3, 3, 3, 3, 3, 3, 3, 3, 3, 5, 5,\n",
       "         5, 6, 0, 0, 0, 0, 0, 0]])"
      ]
     },
     "execution_count": 13,
     "metadata": {},
     "output_type": "execute_result"
    }
   ],
   "source": [
    "local_roadgraph.type[:, 0, :]"
   ]
  },
  {
   "cell_type": "code",
   "execution_count": null,
   "metadata": {},
   "outputs": [],
   "source": []
  },
  {
   "cell_type": "code",
   "execution_count": null,
   "metadata": {},
   "outputs": [],
   "source": [
    "local_roadgraph.type.flatten()"
   ]
  },
  {
   "cell_type": "code",
   "execution_count": 21,
   "metadata": {},
   "outputs": [
    {
     "data": {
      "text/plain": [
       "tensor([0, 1, 5])"
      ]
     },
     "execution_count": 21,
     "metadata": {},
     "output_type": "execute_result"
    }
   ],
   "source": [
    "torch.where(env.cont_agent_mask[0, :])[0]"
   ]
  },
  {
   "cell_type": "code",
   "execution_count": 22,
   "metadata": {},
   "outputs": [],
   "source": [
    "from pygpudrive.datatypes.observation import (\n",
    "    LocalEgoState,\n",
    "    PartnerObs,\n",
    "    LidarObs,\n",
    ")\n",
    "from pygpudrive.datatypes.trajectory import LogTrajectory\n",
    "from pygpudrive.datatypes.roadgraph import LocalRoadGraphPoints\n"
   ]
  },
  {
   "cell_type": "code",
   "execution_count": 29,
   "metadata": {},
   "outputs": [
    {
     "data": {
      "text/plain": [
       "torch.Size([1, 32, 31, 1])"
      ]
     },
     "execution_count": 29,
     "metadata": {},
     "output_type": "execute_result"
    }
   ],
   "source": [
    "ego_state = LocalEgoState.from_tensor(\n",
    "    self_obs_tensor=env.sim.self_observation_tensor(),\n",
    "    backend=\"torch\",\n",
    "    device=\"cpu\",\n",
    ")\n",
    "\n",
    "local_roadgraph = LocalRoadGraphPoints.from_tensor(\n",
    "    local_roadgraph_tensor=env.sim.agent_roadmap_tensor(),\n",
    "    backend=\"torch\",\n",
    "    device=\"cpu\",\n",
    ")\n",
    "\n",
    "partner_obs = PartnerObs.from_tensor(\n",
    "    partner_obs_tensor=env.sim.partner_observations_tensor(),\n",
    "    backend=\"torch\",\n",
    "    device=\"cpu\"\n",
    ")\n",
    "\n",
    "partner_obs.rel_pos_x.shape"
   ]
  },
  {
   "cell_type": "code",
   "execution_count": 30,
   "metadata": {},
   "outputs": [
    {
     "data": {
      "text/plain": [
       "torch.Size([1, 32, 256])"
      ]
     },
     "execution_count": 30,
     "metadata": {},
     "output_type": "execute_result"
    }
   ],
   "source": [
    "local_roadgraph.x.shape"
   ]
  },
  {
   "cell_type": "code",
   "execution_count": 31,
   "metadata": {},
   "outputs": [
    {
     "data": {
      "text/plain": [
       "torch.Size([1, 32])"
      ]
     },
     "execution_count": 31,
     "metadata": {},
     "output_type": "execute_result"
    }
   ],
   "source": [
    "ego_state.id.shape"
   ]
  },
  {
   "cell_type": "code",
   "execution_count": 32,
   "metadata": {},
   "outputs": [
    {
     "data": {
      "text/plain": [
       "4.623200416564941"
      ]
     },
     "execution_count": 32,
     "metadata": {},
     "output_type": "execute_result"
    }
   ],
   "source": [
    "ego_state.vehicle_length[0, 0].item()"
   ]
  },
  {
   "cell_type": "code",
   "execution_count": 33,
   "metadata": {},
   "outputs": [
    {
     "name": "stdout",
     "output_type": "stream",
     "text": [
      "The autoreload extension is already loaded. To reload it, use:\n",
      "  %reload_ext autoreload\n"
     ]
    }
   ],
   "source": [
    "%load_ext autoreload\n",
    "%autoreload 2\n",
    "\n",
    "from pygpudrive.visualize.core import plot_agent_observation"
   ]
  },
  {
   "cell_type": "code",
   "execution_count": 34,
   "metadata": {},
   "outputs": [
    {
     "data": {
      "image/png": "[encoded data removed]",
      "text/plain": [
       "<Figure size 600x600 with 1 Axes>"
      ]
     },
     "metadata": {},
     "output_type": "display_data"
    }
   ],
   "source": [
    "fig, ax = plot_agent_observation(\n",
    "    env_idx=0,\n",
    "    agent_idx=1,\n",
    "    observation_roadgraph=local_roadgraph,\n",
    "    observation_ego=ego_state,\n",
    "    observation_partner=partner_obs,\n",
    "    time_step=0,\n",
    ");"
   ]
  },
  {
   "cell_type": "code",
   "execution_count": 61,
   "metadata": {},
   "outputs": [],
   "source": [
    "import numpy as np\n",
    "import matplotlib.pyplot as plt\n",
    "\n",
    "def img_from_fig(fig: matplotlib.figure.Figure) -> np.ndarray:\n",
    "  \"\"\"Returns a [H, W, 3] uint8 np image from fig.canvas.tostring_rgb().\"\"\"\n",
    "  # Just enough margin in the figure to display xticks and yticks.\n",
    "  fig.subplots_adjust(\n",
    "      left=0.08, bottom=0.08, right=0.98, top=0.9, wspace=0.05, hspace=0.05\n",
    "  )\n",
    "  fig.canvas.draw()\n",
    "  data = np.frombuffer(fig.canvas.tostring_rgb(), dtype=np.uint8)\n",
    "  img = data.reshape(fig.canvas.get_width_height()[::-1] + (3,))\n",
    "  plt.close(fig)\n",
    "  return img\n"
   ]
  },
  {
   "cell_type": "code",
   "execution_count": 62,
   "metadata": {},
   "outputs": [
    {
     "name": "stderr",
     "output_type": "stream",
     "text": [
      "/tmp/ipykernel_751237/65554361.py:11: MatplotlibDeprecationWarning: The tostring_rgb function was deprecated in Matplotlib 3.8 and will be removed in 3.10. Use buffer_rgba instead.\n",
      "  data = np.frombuffer(fig.canvas.tostring_rgb(), dtype=np.uint8)\n"
     ]
    },
    {
     "data": {
      "text/html": [
       "<table class=\"show_videos\" style=\"border-spacing:0px;\"><tr><td style=\"padding:1px;\"><video controls width=\"600\" height=\"600\" style=\"object-fit:cover;\" loop autoplay muted>\n",
       "      <source src=\"data:video/mp4;base64,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\" type=\"video/mp4\"/>\n",
       "      This browser does not support the video tag.\n",
       "      </video></td></tr></table>"
      ],
      "text/plain": [
       "<IPython.core.display.HTML object>"
      ]
     },
     "metadata": {},
     "output_type": "display_data"
    }
   ],
   "source": [
    "mediapy.show_video([img_from_fig(fig)])"
   ]
  },
  {
   "cell_type": "code",
   "execution_count": null,
   "metadata": {},
   "outputs": [],
   "source": []
  },
  {
   "cell_type": "code",
   "execution_count": null,
   "metadata": {},
   "outputs": [],
   "source": []
  },
  {
   "cell_type": "code",
   "execution_count": 53,
   "metadata": {},
   "outputs": [],
   "source": [
    "# Reset environment\n",
    "obs = env.reset()\n",
    "\n",
    "expert_actions, _, _, _ = env.get_expert_actions()\n",
    "\n",
    "frames = {f\"env_{i}\": [] for i in range(NUM_ENVS)}\n",
    "\n",
    "# Step through the scene\n",
    "for t in range(env_config.episode_len):\n",
    "\n",
    "    env.step_dynamics(expert_actions[:, :, t, :])\n",
    "    \n",
    "    # Render the scenes\n",
    "    for i in range(NUM_ENVS):\n",
    "        frames[f\"env_{i}\"].append(env.render(i))"
   ]
  },
  {
   "cell_type": "code",
   "execution_count": 6,
   "metadata": {},
   "outputs": [
    {
     "data": {
      "text/html": [
       "<table class=\"show_videos\" style=\"border-spacing:0px;\"><tr><td style=\"padding:1px;\"><div style=\"display:flex; align-items:left;\">\n",
       "      <div style=\"display:flex; flex-direction:column; align-items:center;\">\n",
       "      <div>env_0</div><div><video controls width=\"600\" height=\"400\" style=\"object-fit:cover;\" loop autoplay muted>\n",
       "      <source src=\"data:video/mp4;base64,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\" type=\"video/mp4\"/>\n",
       "      This browser does not support the video tag.\n",
       "      </video></div></div></div></td></tr></table>"
      ],
      "text/plain": [
       "<IPython.core.display.HTML object>"
      ]
     },
     "metadata": {},
     "output_type": "display_data"
    }
   ],
   "source": [
    "mediapy.show_videos(frames, fps=30, width=600, height=400, columns=1)"
   ]
  },
  {
   "cell_type": "code",
   "execution_count": null,
   "metadata": {},
   "outputs": [],
   "source": []
  },
  {
   "cell_type": "code",
   "execution_count": null,
   "metadata": {},
   "outputs": [],
   "source": []
  },
  {
   "cell_type": "code",
   "execution_count": 13,
   "metadata": {},
   "outputs": [
    {
     "ename": "NameError",
     "evalue": "name 'utils' is not defined",
     "output_type": "error",
     "traceback": [
      "\u001b[0;31m---------------------------------------------------------------------------\u001b[0m",
      "\u001b[0;31mNameError\u001b[0m                                 Traceback (most recent call last)",
      "Cell \u001b[0;32mIn[13], line 1\u001b[0m\n\u001b[0;32m----> 1\u001b[0m fig, ax \u001b[38;5;241m=\u001b[39m \u001b[43mutils\u001b[49m\u001b[38;5;241m.\u001b[39minit_fig_ax(viz_config)\n",
      "\u001b[0;31mNameError\u001b[0m: name 'utils' is not defined"
     ]
    }
   ],
   "source": [
    "fig, ax = utils.init_fig_ax(viz_config)\n"
   ]
  },
  {
   "cell_type": "code",
   "execution_count": null,
   "metadata": {},
   "outputs": [],
   "source": []
  }
 ],
 "metadata": {
  "kernelspec": {
   "display_name": "gdrive",
   "language": "python",
   "name": "python3"
  },
  "language_info": {
   "codemirror_mode": {
    "name": "ipython",
    "version": 3
   },
   "file_extension": ".py",
   "mimetype": "text/x-python",
   "name": "python",
   "nbconvert_exporter": "python",
   "pygments_lexer": "ipython3",
   "version": "3.10.12"
  }
 },
 "nbformat": 4,
 "nbformat_minor": 2
}
