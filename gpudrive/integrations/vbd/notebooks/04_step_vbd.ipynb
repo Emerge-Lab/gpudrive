{
 "cells": [
  {
   "cell_type": "markdown",
   "id": "4ba8c301",
   "metadata": {},
   "source": [
    "# Step using amortized VBD and visualize"
   ]
  },
  {
   "cell_type": "code",
   "execution_count": 1,
   "id": "bcd58d7a",
   "metadata": {},
   "outputs": [
    {
     "ename": "RuntimeError",
     "evalue": "module compiled against ABI version 0x1000009 but this version of numpy is 0x2000000",
     "output_type": "error",
     "traceback": [
      "\u001b[31m---------------------------------------------------------------------------\u001b[39m",
      "\u001b[31mRuntimeError\u001b[39m                              Traceback (most recent call last)",
      "\u001b[31mRuntimeError\u001b[39m: module compiled against ABI version 0x1000009 but this version of numpy is 0x2000000"
     ]
    },
    {
     "ename": "RuntimeError",
     "evalue": "module compiled against ABI version 0x1000009 but this version of numpy is 0x2000000",
     "output_type": "error",
     "traceback": [
      "\u001b[31m---------------------------------------------------------------------------\u001b[39m",
      "\u001b[31mRuntimeError\u001b[39m                              Traceback (most recent call last)",
      "\u001b[31mRuntimeError\u001b[39m: module compiled against ABI version 0x1000009 but this version of numpy is 0x2000000"
     ]
    }
   ],
   "source": [
    "import os\n",
    "import torch\n",
    "import mediapy\n",
    "\n",
    "from pathlib import Path\n",
    "working_dir = Path.cwd()\n",
    "while working_dir.name != 'gpudrive':\n",
    "    working_dir = working_dir.parent\n",
    "    if working_dir == Path.home():\n",
    "        raise FileNotFoundError(\"Base directory 'gpudrive' not found\")\n",
    "os.chdir(working_dir.parent)\n",
    "\n",
    "from gpudrive.env.config import EnvConfig, RenderConfig\n",
    "from gpudrive.env.dataset import SceneDataLoader\n",
    "from gpudrive.env.env_torch import GPUDriveTorchEnv\n",
    "from gpudrive.datatypes.trajectory import VBDTrajectory\n",
    "from gpudrive.visualize.utils import img_from_fig\n",
    "import madrona_gpudrive"
   ]
  },
  {
   "cell_type": "code",
   "execution_count": null,
   "id": "02325a7d",
   "metadata": {},
   "outputs": [
    {
     "name": "stderr",
     "output_type": "stream",
     "text": [
      "Smoothing guidance data: 100%|\u001b[34m██████████\u001b[0m| 1/1 [00:00<00:00, 158.12it/s]\n",
      "Smoothing guidance data: 100%|\u001b[34m██████████\u001b[0m| 1/1 [00:00<00:00, 164.90it/s]\n",
      "Smoothing guidance data: 100%|\u001b[34m██████████\u001b[0m| 1/1 [00:00<00:00, 61.80it/s]\n"
     ]
    }
   ],
   "source": [
    "#Init GPUDrive env\n",
    "device = \"cpu\"\n",
    "\n",
    "env_config = EnvConfig(\n",
    "    dynamics_model=\"state\", # Use state-based dynamics model\n",
    "    dist_to_goal_threshold=1e-5, # Trick to make sure the agents don't disappear when they reach the goal\n",
    "    init_mode = 'wosac_eval',\n",
    "    max_controlled_agents=32,\n",
    "    goal_behavior='ignore',\n",
    "    guidance_mode='vbd_amortized'\n",
    ")\n",
    "        \n",
    "# Make env\n",
    "gpudrive_env = GPUDriveTorchEnv(\n",
    "    config=env_config,\n",
    "    data_loader = SceneDataLoader(\n",
    "        root=\"data/processed/wosac/validation/json\",\n",
    "        batch_size=1,\n",
    "        dataset_size=1,\n",
    "        file_prefix=\"\"\n",
    "    ),\n",
    "    render_config=RenderConfig(),\n",
    "    max_cont_agents=32, # Maximum number of agents to control per scene\n",
    "    device=device,\n",
    ")"
   ]
  },
  {
   "cell_type": "code",
   "execution_count": 3,
   "id": "cde65bde",
   "metadata": {},
   "outputs": [],
   "source": [
    "# Action tensor to step through simulation\n",
    "predicted_actions = torch.zeros((gpudrive_env.num_worlds, gpudrive_env.max_agent_count, madrona_gpudrive.kTrajectoryLength, 10))\n",
    "\n",
    "vbd_trajectories = VBDTrajectory.from_tensor(\n",
    "    gpudrive_env.sim.vbd_trajectory_tensor(),\n",
    "    device=device,\n",
    ")\n",
    "\n",
    "predicted_actions[:, :, :, 0] = vbd_trajectories.pos_x.squeeze(-1)\n",
    "predicted_actions[:, :, :, 1] = vbd_trajectories.pos_y.squeeze(-1)\n",
    "predicted_actions[:, :, :, 3] = vbd_trajectories.yaw.squeeze(-1)\n",
    "predicted_actions[:, :, :, 4] = vbd_trajectories.vel_x.squeeze(-1)\n",
    "predicted_actions[:, :, :, 5] = vbd_trajectories.vel_y.squeeze(-1)\n",
    "\n",
    "sim_state_frames = []\n",
    "fig = gpudrive_env.vis.plot_simulator_state(\n",
    "    time_steps=[0],\n",
    "    env_indices=[0],\n",
    "    zoom_radius=120,\n",
    "    plot_guidance_pos_xy=True,\n",
    ")[0]\n",
    "# Save initial state\n",
    "sim_state_frames.append(img_from_fig(fig))\n",
    "\n",
    "# Get expert actions\n",
    "# expert_actions, _, _, _ = gpudrive_env.get_expert_actions()\n",
    "# Step through simulation\n",
    "for t in range(env_config.episode_len):\n",
    "    gpudrive_env.step_dynamics(predicted_actions[:, :, t, :])\n",
    "    fig = gpudrive_env.vis.plot_simulator_state(\n",
    "        time_steps=[t],\n",
    "        env_indices=[0],\n",
    "        zoom_radius=120,\n",
    "        plot_guidance_pos_xy=True,\n",
    "    )[0]\n",
    "    sim_state_frames.append(img_from_fig(fig))"
   ]
  },
  {
   "cell_type": "code",
   "execution_count": 4,
   "id": "b11881ea",
   "metadata": {},
   "outputs": [
    {
     "data": {
      "text/plain": [
       "(tensor([ True,  True,  True, False,  True,  True,  True,  True,  True,  True,\n",
       "          True,  True,  True,  True,  True, False, False, False, False, False,\n",
       "         False, False, False, False, False, False, False, False, False, False,\n",
       "         False, False]),\n",
       " 14)"
      ]
     },
     "execution_count": 4,
     "metadata": {},
     "output_type": "execute_result"
    }
   ],
   "source": [
    "controlled_agent_mask = gpudrive_env.cont_agent_mask[0, :]\n",
    "controlled_agent_mask, controlled_agent_mask.sum().item()"
   ]
  },
  {
   "cell_type": "code",
   "execution_count": 5,
   "id": "bac07891",
   "metadata": {},
   "outputs": [
    {
     "data": {
      "text/plain": [
       "tensor([[[ -5.6777,  33.1743],\n",
       "         [ -6.0010,  33.1763],\n",
       "         [ -6.3291,  33.1802],\n",
       "         ...,\n",
       "         [-24.5342,  33.6284],\n",
       "         [-24.6396,  33.6313],\n",
       "         [-24.7119,  33.6333]],\n",
       "\n",
       "        [[ -0.9980,  21.9150],\n",
       "         [ -1.0020,  22.0342],\n",
       "         [ -0.9746,  22.1816],\n",
       "         ...,\n",
       "         [  1.0430,  32.8506],\n",
       "         [  1.0645,  32.9722],\n",
       "         [  1.0879,  33.0996]],\n",
       "\n",
       "        [[-47.2080,  40.1299],\n",
       "         [-47.1768,  40.0386],\n",
       "         [-47.1357,  39.9395],\n",
       "         ...,\n",
       "         [-40.8311,  31.8291],\n",
       "         [-40.7695,  31.7153],\n",
       "         [-40.7090,  31.6021]],\n",
       "\n",
       "        ...,\n",
       "\n",
       "        [[  0.0000,   0.0000],\n",
       "         [  0.0000,   0.0000],\n",
       "         [  0.0000,   0.0000],\n",
       "         ...,\n",
       "         [  0.0000,   0.0000],\n",
       "         [  0.0000,   0.0000],\n",
       "         [  0.0000,   0.0000]],\n",
       "\n",
       "        [[-78.5566,  33.8350],\n",
       "         [-78.4814,  33.9312],\n",
       "         [-78.4121,  34.0332],\n",
       "         ...,\n",
       "         [-76.4219,  41.7549],\n",
       "         [-76.3252,  41.8037],\n",
       "         [-76.2188,  41.8569]],\n",
       "\n",
       "        [[  4.9863,  42.4492],\n",
       "         [  5.0293,  42.4150],\n",
       "         [  4.9941,  42.2925],\n",
       "         ...,\n",
       "         [  5.0830,  41.1494],\n",
       "         [  5.0830,  41.1494],\n",
       "         [  5.0830,  41.1494]]])"
      ]
     },
     "execution_count": 5,
     "metadata": {},
     "output_type": "execute_result"
    }
   ],
   "source": [
    "trajectories = vbd_trajectories.pos_xy[0, controlled_agent_mask]\n",
    "trajectories"
   ]
  },
  {
   "cell_type": "code",
   "execution_count": null,
   "id": "19a5bca6",
   "metadata": {},
   "outputs": [],
   "source": [
    "mediapy.write_video('gpudrive/integrations/vbd/viz/eval.gif', sim_state_frames, fps=20, codec=\"gif\")"
   ]
  }
 ],
 "metadata": {
  "kernelspec": {
   "display_name": "gpudrive",
   "language": "python",
   "name": "python3"
  },
  "language_info": {
   "codemirror_mode": {
    "name": "ipython",
    "version": 3
   },
   "file_extension": ".py",
   "mimetype": "text/x-python",
   "name": "python",
   "nbconvert_exporter": "python",
   "pygments_lexer": "ipython3",
   "version": "3.11.8"
  }
 },
 "nbformat": 4,
 "nbformat_minor": 5
}
