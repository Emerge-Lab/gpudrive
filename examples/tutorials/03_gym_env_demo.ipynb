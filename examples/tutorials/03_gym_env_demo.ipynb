{
 "cells": [
  {
   "cell_type": "markdown",
   "metadata": {},
   "source": [
    "## Gymnasium environments\n",
    "\n",
    "This Section shows how you can make and use the `gym` environments that interface with the simulator."
   ]
  },
  {
   "cell_type": "code",
   "execution_count": 9,
   "metadata": {},
   "outputs": [],
   "source": [
    "import os\n",
    "from pathlib import Path\n",
    "import torch\n",
    "import mediapy\n",
    "\n",
    "# Set working directory to the base directory 'gpudrive'\n",
    "working_dir = Path.cwd()\n",
    "while working_dir.name != 'gpudrive':\n",
    "    working_dir = working_dir.parent\n",
    "    if working_dir == Path.home():\n",
    "        raise FileNotFoundError(\"Base directory 'gpudrive' not found\")\n",
    "os.chdir(working_dir)\n",
    "\n",
    "from gpudrive.env.config import EnvConfig\n",
    "from gpudrive.env.env_torch import GPUDriveTorchEnv\n",
    "from gpudrive.visualize.utils import img_from_fig\n",
    "from gpudrive.env.dataset import SceneDataLoader"
   ]
  },
  {
   "cell_type": "markdown",
   "metadata": {},
   "source": [
    "### Settings"
   ]
  },
  {
   "cell_type": "code",
   "execution_count": 21,
   "metadata": {},
   "outputs": [],
   "source": [
    "MAX_NUM_OBJECTS = 64  # Maximum number of objects in the scene we control\n",
    "NUM_WORLDS = 1  # Number of parallel environments\n",
    "K_UNIQUE_SCENES = 1 # Number of unique scenes\n",
    "\n",
    "# Set the path to where you want to save the videos\n",
    "VIDEO_PATH = \"./videos\"\n",
    "\n",
    "FPS = 4  # Video frames per second\n",
    "\n",
    "device = 'cpu' # for simplicity purposes in notebook we use cpu, note that the simulator is optimized for GPU so use cuda if possible"
   ]
  },
  {
   "cell_type": "markdown",
   "metadata": {},
   "source": [
    "### Initializing environments\n",
    "\n",
    "- We provide both a torch and jax gymnasium interface with the simulator. Most functionality is specified in the `GPUDriveGymEnv` class in the `base_env`, `torch_env` and `jax_env` both inherit from the `GPUDriveGymEnv`, the only difference between these is that one exports torch tensors and the other jax arrays.\n",
    "- All environment settings are defined in the `EnvConfig` dataclass. \n"
   ]
  },
  {
   "cell_type": "code",
   "execution_count": 27,
   "metadata": {},
   "outputs": [],
   "source": [
    "env_config = EnvConfig(\n",
    "    steer_actions = torch.round(\n",
    "        torch.linspace(-1.0, 1.0, 3), decimals=3),\n",
    "    accel_actions = torch.round(\n",
    "        torch.linspace(-3, 3, 3), decimals=3\n",
    "    )\n",
    ")"
   ]
  },
  {
   "cell_type": "markdown",
   "metadata": {},
   "source": [
    "---\n",
    "\n",
    "> 💡 **See the gym environment docs at [`pygpudrive/env`](https://github.com/Emerge-Lab/gpudrive/tree/main/pygpudrive/env)**\n",
    "\n",
    "---"
   ]
  },
  {
   "cell_type": "code",
   "execution_count": 28,
   "metadata": {},
   "outputs": [],
   "source": [
    "# Make dataloader\n",
    "data_loader = SceneDataLoader(\n",
    "    root=\"data/processed/examples\", # Path to the dataset\n",
    "    batch_size=1, # Batch size, you want this to be equal to the number of worlds (envs) so that every world receives a different scene\n",
    "    dataset_size=1, # Total number of different scenes we want to use\n",
    "    sample_with_replacement=True, \n",
    "    seed=42, \n",
    "    shuffle=True,   \n",
    ")\n",
    "\n",
    "# Make environment\n",
    "env = GPUDriveTorchEnv(\n",
    "    config=env_config,\n",
    "    data_loader=data_loader,\n",
    "    max_cont_agents=MAX_NUM_OBJECTS, # Maximum number of agents to control per scenario\n",
    "    device=device,\n",
    ")"
   ]
  },
  {
   "cell_type": "markdown",
   "metadata": {},
   "source": [
    "### Rollout \n",
    "\n",
    "A single rollout (one episode) is implemented as follows. We:\n",
    "- step through N worlds simultaneously.\n",
    "- render the simulator state using `plot_simulator_state()`"
   ]
  },
  {
   "cell_type": "code",
   "execution_count": 29,
   "metadata": {},
   "outputs": [],
   "source": [
    "obs = env.reset()\n",
    "\n",
    "frames = {f\"env_{i}\": [] for i in range(NUM_WORLDS)}\n",
    "\n",
    "for t in range(env_config.episode_len):\n",
    "    \n",
    "    # Sample random actions\n",
    "    rand_action = torch.Tensor(\n",
    "        [[env.action_space.sample() for _ in range(MAX_NUM_OBJECTS * NUM_WORLDS)]]\n",
    "    ).reshape(NUM_WORLDS, MAX_NUM_OBJECTS)\n",
    "\n",
    "    # Step the environment\n",
    "    env.step_dynamics(rand_action)\n",
    "\n",
    "    obs = env.get_obs()\n",
    "    reward = env.get_rewards()\n",
    "    done = env.get_dones()\n",
    "\n",
    "    # Render the environment    \n",
    "    if t % 5 == 0:\n",
    "        imgs = env.vis.plot_simulator_state(\n",
    "            env_indices=list(range(NUM_WORLDS)),\n",
    "            time_steps=[t]*NUM_WORLDS,\n",
    "            zoom_radius=80,\n",
    "        )\n",
    "    \n",
    "        for i in range(NUM_WORLDS):\n",
    "            frames[f\"env_{i}\"].append(img_from_fig(imgs[i])) \n",
    "        \n",
    "    if done.all():\n",
    "        break"
   ]
  },
  {
   "cell_type": "markdown",
   "metadata": {},
   "source": [
    "### Display video of agents taking random actions"
   ]
  },
  {
   "cell_type": "code",
   "execution_count": 30,
   "metadata": {},
   "outputs": [
    {
     "data": {
      "text/html": [
       "<table class=\"show_videos\" style=\"border-spacing:0px;\"><tr><td style=\"padding:1px;\"><div style=\"display:flex; align-items:left;\">\n",
       "      <div style=\"display:flex; flex-direction:column; align-items:center;\">\n",
       "      <div>env_0</div><div><video controls width=\"500\" height=\"500\" style=\"object-fit:cover;\" loop autoplay muted>\n",
       "      <source src=\"data:video/mp4;base64,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\" type=\"video/mp4\"/>\n",
       "      This browser does not support the video tag.\n",
       "      </video></div></div></div></td></tr></table>"
      ],
      "text/plain": [
       "<IPython.core.display.HTML object>"
      ]
     },
     "metadata": {},
     "output_type": "display_data"
    }
   ],
   "source": [
    "mediapy.show_videos(frames, fps=5, width=500, height=500, columns=2)"
   ]
  }
 ],
 "metadata": {
  "kernelspec": {
   "display_name": "gpudrive",
   "language": "python",
   "name": "python3"
  },
  "language_info": {
   "codemirror_mode": {
    "name": "ipython",
    "version": 3
   },
   "file_extension": ".py",
   "mimetype": "text/x-python",
   "name": "python",
   "nbconvert_exporter": "python",
   "pygments_lexer": "ipython3",
   "version": "3.11.9"
  }
 },
 "nbformat": 4,
 "nbformat_minor": 2
}
